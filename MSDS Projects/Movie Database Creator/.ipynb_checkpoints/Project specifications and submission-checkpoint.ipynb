{
 "cells": [
  {
   "cell_type": "markdown",
   "metadata": {
    "deletable": false,
    "editable": false,
    "nbgrader": {
     "cell_type": "markdown",
     "checksum": "5f589d12cbd707ef02c87c104c687aa7",
     "grade": false,
     "grade_id": "cell-432afb8168a38832",
     "locked": true,
     "schema_version": 3,
     "solution": false
    }
   },
   "source": [
    "# Project Instructions\n",
    "\n",
    "Your project is to create a module named `moviedb` for managing a movie collection. This is to be done by SLT. Your code should be committed on a private repo in GitHub with repo name `moviedb` then submit this notebook by 16 June at 8pm. Only one member of the SLT should submit--there will be a penalty for submissions from multiple members of an SLT. The module should be at the top-level directory of this repo. Grant read access to this repo to Christian Alis (GitHub account `ianalis`). **Do not write your code on this notebook nor submit it along with this notebook**. Just specify your repo url in the cell below.\n",
    "\n",
    "Only the following packages may be used for the implementation:\n",
    "\n",
    "* Python standard libraries\n",
    "* Numpy (but not scipy)\n",
    "* Pandas\n",
    "\n",
    "## The `MovieDB` class\n",
    "\n",
    "The module should contain one class named `MovieDB`. It should have the following specifications:\n",
    "\n",
    "### Initialization\n",
    "\n",
    "The class initializer should accept a string `data_dir` which is the directory path to where the data files are located. This path should be stored in the `data_dir` attribute of the object.\n",
    "\n",
    "### Data persistence\n",
    "\n",
    "Data are stored in the CSV files `movies.csv` and `directors.csv` in `data_dir`. The CSV files begin with a column header and the columns of each CSV file are:\n",
    "\n",
    "`movies.csv`:\n",
    "  - `movie_id`: an integer assigned to the movie\n",
    "  - `title`: movie title. It is enclosed in double quotes (\") when stored in the CSV file if there is a comma (,) in the title\n",
    "  - `year`: release year\n",
    "  - `genre`: movie genre\n",
    "  - `director_id`: id of the movie's director\n",
    "  \n",
    "`directors.csv`:\n",
    " - `director_id`: an integer assigned to the director\n",
    " - `given_name`: given name of the director\n",
    " - `last_name`: last name of the director\n",
    "\n",
    "### Exception\n",
    "\n",
    "The class has the associated exception `MovieDBError` which is a `ValueError`.\n",
    "\n",
    "### Features\n",
    "\n",
    "#### Adding a movie to the database\n",
    "\n",
    "Create a method `add_movie` that accepts the following parameters:\n",
    "  - `title`: title of the movie\n",
    "  - `year`: year movie was released as integer\n",
    "  - `genre`: genre of the movie\n",
    "  - `director`: director of the movie as a string in `Last name, Given name` format\n",
    "  \n",
    "  The method should append the movie to the end of `movies.csv`, if it exists, or creates it, otherwise. The `movie_id` is _last `movie_id` in the file_ + 1, or `1` if there's no movie in the file yet. The `director_id` is the corresponding `director_id` in `directors.csv` based on the case-insensitive matches of `given_name` and `last_name`. It should append the director in `directors.csv` if the director is not yet there. The `director_id` of a new director is _last `director_id` in the file_ + 1, or `1` if there's no director in the file yet. The method should return the `movie_id` or raise a `MovieDBError` exception if the movie is already in `movies.csv`. A movie is said to be in `movies.csv` if there is a movie that matches the `title` (case-insensitive), `year`, `genre` (case-insensitive) and `director` (case-insensitive).\n",
    "\n",
    "#### Adding movies in the database\n",
    "\n",
    "Create a method `add_movies` that accepts a list of movies in the form of dictionaries with the following keys:\n",
    "  - `title`: title of the movie\n",
    "  - `year`: year movie was released as integer\n",
    "  - `genre`: genre of the movie\n",
    "  - `director`: director of the movie as a string in `Last name, Given name` format\n",
    "  \n",
    "  The method should add each movie to the database. It returns a list of the `movie_id`s of successfully added movies. If a movie is already in the database, skip it and print `Warning: movie {title} is already in the database. Skipping...` instead. If a movie has invalid or incomplete information, skip it and print `Warning: movie index {i} has invalid or incomplete information. Skipping...` instead. The movie index is the zero-based index of the movie in the passed list of movies.\n",
    "  \n",
    "#### Deleting a movie in the database\n",
    "\n",
    "Create a method `delete_movie` that accepts the `movie_id` to delete then removes it from `movies.csv`. It will raise a `MovieDBError` if the `movie_id` is not found.\n",
    "  \n",
    "#### Searching for movies in the database\n",
    "\n",
    "Create a method `search_movies` that accepts the following keyword arguments:\n",
    "  - `title`: case-insensitive title of the movie\n",
    "  - `year`: year movie was released as integer\n",
    "  - `genre`: case-insensitive genre of the movie\n",
    "  - `director_id`: id of the director of the movie\n",
    "\n",
    "All of the arguments are optional but there should be at least one nontrivial argument passed to the method. It should raise a `MovieDBError` if there is no nontrivial argument that was passed. It should return the list of matching `movie_id`s.\n",
    "\n",
    "#### Exporting data\n",
    "\n",
    "Create a method `export_data` that returns all of the movies in the database as a pandas data frame with the following columns:\n",
    "  - `title`: title of the movie\n",
    "  - `year`: year movie was released as integer\n",
    "  - `genre`: genre of the movie\n",
    "  - `director_last_name`: last name of the movie director\n",
    "  - `director_given_name`: given name of the movie director\n",
    "  \n",
    "Sort the rows by the corresponding `movie_id` of each movie.\n",
    "  \n",
    "#### Generating statistics\n",
    "\n",
    "Create a method `generate_statistics` that returns a dictionary depending on the `stat` parameter passed to it:\n",
    "  - `movie`: key is year, value is the number of movies for that year\n",
    "  - `genre`: key is each unique genre, value is another dictionary with year as key and number of movies of that genre for that year as value\n",
    "  - `director`: key is director name following the format `Last name, Given name`, value is another dictionary with year as key and number of movies of that director for that year as value\n",
    "  - `all`: keys are `movie`, `genre` and `director`, values are the corresponding dictionary returned by those keywords\n",
    "\n",
    "The `stat` values are case-sensitive and the method should raise `MovieDBError` if the passed `stat` is unknown.\n",
    "\n",
    "#### Plotting statistics\n",
    "\n",
    "Create a method `plot_statistics` that returns a matplotlib `Axes` depending on the `stat` parameter passed to it:\n",
    "  - `movie`: bar plot of number of movies per year\n",
    "  - `genre`: superimposed circle and line plots of the number of movies for each genre per year, one line per genre. Sort alphabetically by genre then show the legend.\n",
    "  - `director`: superimposed circle and line plots of the number of movies for each director per year, one director per line. Sort the directors by decreasing number of movies then by increasing last name. Plot only the 5 directors with the most movies.\n",
    "  \n",
    "The `stat` values are case-sensitive and the method should raise `MovieDBError` if the passed `stat` is unknown.\n",
    "  \n",
    "#### Token frequency\n",
    "\n",
    "Create a method `token_freq` that returns a dictionary with the token as key and the number of times that word appeared in all of the titles as value. A token is defined as a case-folded sequence of non-whitespace characters. \n",
    "\n",
    "\n",
    "## Grading guide\n",
    "\n",
    "* The project has a highest possible score of 150 points.\n",
    "\n",
    "* Each cell with an assert statement is worth 10 pts. Successfully passing all of the tests in a cell will earn you the entire 10 pts. Failure to pass any of the test in the cell, including hidden tests, will earn no point. No partial points will be given thus make sure that you run and pass all the visible tests in the test suite before submitting.\n",
    "\n",
    "* Successful git cloning is worth 15 pts. Successful importing of the module is worth 5 pts. \n",
    "\n",
    "* If the module fails to clone or import, the professor will attempt to make it work but will merit additional deductions up to 10% of highest possible score.\n",
    "\n",
    "* Methods should have a sensible docstring. The professor will deduct up to a total of 15 pts for missing, misleading or nonsensible docstrings. If you reasonably follow the numpy docstring format then you will likely not receive any deductions.\n",
    "\n",
    "* The code should follow PEP8. The professor will run your python codes through [pycodestyle](https://pypi.org/project/pycodestyle/) and will deduct a point up to a total of 15 points for every instance of PEP8 violation (including warning).\n",
    "\n",
    "**Hints**: \n",
    "* Instead of figuring out how to modify a specific line in the CSV files, recreate the entire CSV file then overwrite the original file.\n",
    "* Use `os.path` for path operations."
   ]
  },
  {
   "cell_type": "code",
   "execution_count": null,
   "metadata": {
    "ExecuteTime": {
     "end_time": "2021-06-14T04:25:09.137733Z",
     "start_time": "2021-06-14T04:25:09.132486Z"
    },
    "deletable": false,
    "nbgrader": {
     "cell_type": "code",
     "checksum": "e2958b6b1c2e510db1732b55d262c74c",
     "grade": false,
     "grade_id": "cell-e1c94f48f04dfcc9",
     "locked": false,
     "schema_version": 3,
     "solution": true
    }
   },
   "outputs": [],
   "source": [
    "# THIS IS THE ONLY CELL THAT YOU WILL MODIFY IN THIS NOTEBOOK.\n",
    "# Store the SSH clone URL for your `pgalyzer` repo as a string\n",
    "git_repo_url = ''\n",
    "# YOUR CODE HERE\n",
    "raise NotImplementedError()"
   ]
  },
  {
   "cell_type": "markdown",
   "metadata": {
    "deletable": false,
    "editable": false,
    "nbgrader": {
     "cell_type": "markdown",
     "checksum": "2befdb900150e233265eb0f49c281fcb",
     "grade": false,
     "grade_id": "cell-f1044aa3a51533a9",
     "locked": true,
     "schema_version": 3,
     "solution": false,
     "task": false
    }
   },
   "source": [
    "# Automated tests"
   ]
  },
  {
   "cell_type": "markdown",
   "metadata": {
    "deletable": false,
    "editable": false,
    "nbgrader": {
     "cell_type": "markdown",
     "checksum": "b700c9202c1c40a40e7e9004a5b4c364",
     "grade": false,
     "grade_id": "cell-340d05d6793049aa",
     "locked": true,
     "schema_version": 3,
     "solution": false,
     "task": false
    }
   },
   "source": [
    "## Cloning"
   ]
  },
  {
   "cell_type": "code",
   "execution_count": null,
   "metadata": {
    "ExecuteTime": {
     "end_time": "2021-06-14T04:25:10.679017Z",
     "start_time": "2021-06-14T04:25:09.141725Z"
    },
    "deletable": false,
    "editable": false,
    "nbgrader": {
     "cell_type": "code",
     "checksum": "942f629e55fde658fd6fe2e4087ca77a",
     "grade": false,
     "grade_id": "cell-1c558def51c241bb",
     "locked": true,
     "schema_version": 3,
     "solution": false
    }
   },
   "outputs": [],
   "source": [
    "import pickle\n",
    "import shutil\n",
    "import os\n",
    "import pandas as pd\n",
    "from tempfile import TemporaryDirectory\n",
    "from numpy.testing import assert_equal, assert_almost_equal, assert_raises"
   ]
  },
  {
   "cell_type": "code",
   "execution_count": null,
   "metadata": {
    "ExecuteTime": {
     "end_time": "2021-06-14T04:25:15.090574Z",
     "start_time": "2021-06-14T04:25:10.682362Z"
    },
    "deletable": false,
    "editable": false,
    "nbgrader": {
     "cell_type": "code",
     "checksum": "e9d4e153cbbc6102ec115a1adebf8bb4",
     "grade": true,
     "grade_id": "cell-138a4a73e2b34b95",
     "locked": true,
     "points": 15,
     "schema_version": 3,
     "solution": false,
     "task": false
    }
   },
   "outputs": [],
   "source": [
    "#### Test clone and pip install\n",
    "# The tests here will run `git clone {git_repo_url} moviedb` then copy all\n",
    "# of the repo contents back to the directory where this notebook is"
   ]
  },
  {
   "cell_type": "markdown",
   "metadata": {
    "deletable": false,
    "editable": false,
    "nbgrader": {
     "cell_type": "markdown",
     "checksum": "150f98306fcff25a6d4c572a6caa3f2e",
     "grade": false,
     "grade_id": "cell-b8c47f402879178d",
     "locked": true,
     "schema_version": 3,
     "solution": false,
     "task": false
    }
   },
   "source": [
    "## Code style"
   ]
  },
  {
   "cell_type": "markdown",
   "metadata": {
    "deletable": false,
    "editable": false,
    "nbgrader": {
     "cell_type": "markdown",
     "checksum": "ec0995ef51b162c8eb2410a7e50e1cd4",
     "grade": false,
     "grade_id": "cell-84184f2431611db4",
     "locked": true,
     "schema_version": 3,
     "solution": false,
     "task": false
    }
   },
   "source": [
    "PEP 8 violations and warnings:"
   ]
  },
  {
   "cell_type": "code",
   "execution_count": 2,
   "metadata": {
    "ExecuteTime": {
     "end_time": "2021-06-15T15:49:05.345823Z",
     "start_time": "2021-06-15T15:49:05.264932Z"
    },
    "deletable": false,
    "editable": false,
    "nbgrader": {
     "cell_type": "code",
     "checksum": "5e752f9125e0726663e571a763025604",
     "grade": false,
     "grade_id": "cell-522cb08aab059b4d",
     "locked": true,
     "schema_version": 3,
     "solution": false
    }
   },
   "outputs": [
    {
     "name": "stderr",
     "output_type": "stream",
     "text": [
      "'xargs' is not recognized as an internal or external command,\n",
      "operable program or batch file.\n"
     ]
    }
   ],
   "source": [
    "!find . -iname \"*.py\" | xargs pycodestyle | wc -l"
   ]
  },
  {
   "cell_type": "markdown",
   "metadata": {
    "deletable": false,
    "editable": false,
    "nbgrader": {
     "cell_type": "markdown",
     "checksum": "47fea9dd0461057e4ecb69a228923264",
     "grade": false,
     "grade_id": "cell-d232d49ef3ed9ea1",
     "locked": true,
     "schema_version": 3,
     "solution": false,
     "task": false
    }
   },
   "source": [
    "## The `MovieDB` class"
   ]
  },
  {
   "cell_type": "code",
   "execution_count": 1,
   "metadata": {
    "ExecuteTime": {
     "end_time": "2021-06-15T15:49:04.370940Z",
     "start_time": "2021-06-15T15:49:03.719185Z"
    },
    "deletable": false,
    "editable": false,
    "nbgrader": {
     "cell_type": "code",
     "checksum": "0aeb9279c23874351e96b11ddba6e79b",
     "grade": true,
     "grade_id": "cell-49e55fbed5f7b4ef",
     "locked": true,
     "points": 5,
     "schema_version": 3,
     "solution": false
    }
   },
   "outputs": [],
   "source": [
    "from moviedb import MovieDB, MovieDBError"
   ]
  },
  {
   "cell_type": "markdown",
   "metadata": {
    "deletable": false,
    "editable": false,
    "nbgrader": {
     "cell_type": "markdown",
     "checksum": "3a11dc9f5570219ffaccbf9469d619a9",
     "grade": false,
     "grade_id": "cell-54b8d57492a6284e",
     "locked": true,
     "schema_version": 3,
     "solution": false,
     "task": false
    }
   },
   "source": [
    "### Initialization"
   ]
  },
  {
   "cell_type": "code",
   "execution_count": null,
   "metadata": {
    "ExecuteTime": {
     "end_time": "2021-06-14T04:25:15.984186Z",
     "start_time": "2021-06-14T04:25:15.970141Z"
    },
    "deletable": false,
    "editable": false,
    "nbgrader": {
     "cell_type": "code",
     "checksum": "f472ec6f9bba2e61acc62eaa3d566573",
     "grade": true,
     "grade_id": "cell-5482ae4a72b1df1d",
     "locked": true,
     "points": 10,
     "schema_version": 3,
     "solution": false,
     "task": false
    }
   },
   "outputs": [],
   "source": [
    "movie_db = MovieDB('.')\n",
    "assert_equal(movie_db.data_dir, '.')"
   ]
  },
  {
   "cell_type": "markdown",
   "metadata": {
    "deletable": false,
    "editable": false,
    "nbgrader": {
     "cell_type": "markdown",
     "checksum": "529b497f0a77f15b0b2d0df2b61e4c94",
     "grade": false,
     "grade_id": "cell-4e67a796cb2a4e82",
     "locked": true,
     "schema_version": 3,
     "solution": false,
     "task": false
    }
   },
   "source": [
    "\n",
    "### Adding a movie to the database"
   ]
  },
  {
   "cell_type": "code",
   "execution_count": null,
   "metadata": {
    "ExecuteTime": {
     "end_time": "2021-06-14T04:25:16.030102Z",
     "start_time": "2021-06-14T04:25:15.987600Z"
    },
    "deletable": false,
    "editable": false,
    "nbgrader": {
     "cell_type": "code",
     "checksum": "0a6b270e7e4a9b35cc7c9df0122ff1a0",
     "grade": true,
     "grade_id": "cell-b21d60b042917ff5",
     "locked": true,
     "points": 10,
     "schema_version": 3,
     "solution": false,
     "task": false
    }
   },
   "outputs": [],
   "source": [
    "with TemporaryDirectory() as temp_dir:\n",
    "    movie_db = MovieDB(temp_dir)\n",
    "    assert_equal(\n",
    "        movie_db.add_movie('Shrek', 2001, 'Comedy', 'Adamson, Andrew'), \n",
    "        1\n",
    "    )\n",
    "    assert_raises(\n",
    "        MovieDBError,\n",
    "        lambda: movie_db.add_movie('Shrek', 2001, 'Comedy', 'Adamson, Andrew')\n",
    "    )\n",
    "    df_movies = pd.read_csv(os.path.join(temp_dir, 'movies.csv'))\n",
    "    assert_equal(\n",
    "        df_movies.columns.tolist(),\n",
    "        ['movie_id', 'title', 'year', 'genre', 'director_id']\n",
    "    )\n",
    "    assert_equal(\n",
    "        df_movies.values.tolist(), \n",
    "        [[1, 'Shrek', 2001, 'Comedy', 1]]\n",
    "    )\n",
    "    assert_equal(\n",
    "        df_movies.index.tolist(), \n",
    "        [0]\n",
    "    )\n",
    "    df_directors = pd.read_csv(os.path.join(temp_dir, 'directors.csv'))\n",
    "    assert_equal(\n",
    "        df_directors.columns.tolist(),\n",
    "        ['director_id', 'given_name', 'last_name']\n",
    "    )\n",
    "    assert_equal(\n",
    "        df_directors.values.tolist(), \n",
    "        [[1, 'Andrew', 'Adamson']]\n",
    "    )\n",
    "    assert_equal(\n",
    "        df_directors.index.tolist(), \n",
    "        [0]\n",
    "    )"
   ]
  },
  {
   "cell_type": "code",
   "execution_count": null,
   "metadata": {
    "ExecuteTime": {
     "end_time": "2021-06-14T04:25:16.085153Z",
     "start_time": "2021-06-14T04:25:16.033082Z"
    },
    "deletable": false,
    "editable": false,
    "nbgrader": {
     "cell_type": "code",
     "checksum": "26e9d9125241a322e3bc7f0883f670d0",
     "grade": true,
     "grade_id": "cell-b34bc6a32ad92845",
     "locked": true,
     "points": 10,
     "schema_version": 3,
     "solution": false,
     "task": false
    }
   },
   "outputs": [],
   "source": [
    "with TemporaryDirectory() as temp_dir:\n",
    "    movie_db = MovieDB(temp_dir)\n",
    "    assert_equal(\n",
    "        movie_db.add_movie('The Matrix', 1999, 'Action', 'Wachowskis, The'), \n",
    "        1\n",
    "    )\n",
    "    assert_equal(\n",
    "        movie_db.add_movie('Shrek', 2001, 'Comedy', 'Adamson, Andrew'), \n",
    "        2\n",
    "    )\n",
    "    assert_equal(\n",
    "        movie_db.add_movie('The Matrix Reloaded', 2003, 'Action', \n",
    "                           'Wachowskis, The'), \n",
    "        3\n",
    "    )\n",
    "    assert_equal(\n",
    "        movie_db.add_movie('The Matrix Revolutions', 2003, 'Action', \n",
    "                           'Wachowskis, The'), \n",
    "        4\n",
    "    )\n",
    "    assert_raises(\n",
    "        MovieDBError,\n",
    "        lambda: movie_db.add_movie('Shrek', 2001, 'Comedy', 'Adamson, Andrew')\n",
    "    )"
   ]
  },
  {
   "cell_type": "code",
   "execution_count": null,
   "metadata": {
    "ExecuteTime": {
     "end_time": "2021-06-14T04:25:16.129412Z",
     "start_time": "2021-06-14T04:25:16.087273Z"
    },
    "deletable": false,
    "editable": false,
    "nbgrader": {
     "cell_type": "code",
     "checksum": "a49d8f022756f4f06dc526a93d2f2cc0",
     "grade": true,
     "grade_id": "cell-c8403999e8f500a0",
     "locked": true,
     "points": 10,
     "schema_version": 3,
     "solution": false,
     "task": false
    }
   },
   "outputs": [],
   "source": [
    "with TemporaryDirectory() as temp_dir:\n",
    "    movie_db = MovieDB(temp_dir)\n",
    "    assert_equal(\n",
    "        movie_db.add_movie('Spider-Man', 1977, 'Action', \n",
    "                           'Swackhamer, Egbert Warnderink'), \n",
    "        1\n",
    "    )\n",
    "    assert_equal(\n",
    "        movie_db.add_movie('Spider-Man', 2002, 'Action', 'Raimi, Sam'),\n",
    "        2\n",
    "    )\n",
    "    assert_equal(\n",
    "        movie_db.add_movie('Spider-Man', 2002, 'Animation', 'Raimi, Sam'),\n",
    "        3\n",
    "    )\n",
    "    assert_raises(\n",
    "        MovieDBError,\n",
    "        lambda: movie_db.add_movie('Spider-Man ', 2002, ' Action', \n",
    "                                   ' Raimi,  Sam ')\n",
    "    )"
   ]
  },
  {
   "cell_type": "markdown",
   "metadata": {
    "deletable": false,
    "editable": false,
    "nbgrader": {
     "cell_type": "markdown",
     "checksum": "1fe6417147a166a71385e2310327dd99",
     "grade": false,
     "grade_id": "cell-23abd53e42e70244",
     "locked": true,
     "schema_version": 3,
     "solution": false,
     "task": false
    }
   },
   "source": [
    "### Adding movies in the database"
   ]
  },
  {
   "cell_type": "code",
   "execution_count": null,
   "metadata": {
    "ExecuteTime": {
     "end_time": "2021-06-14T04:25:16.174038Z",
     "start_time": "2021-06-14T04:25:16.131454Z"
    },
    "deletable": false,
    "editable": false,
    "nbgrader": {
     "cell_type": "code",
     "checksum": "0980efde621b88604f29118ffffd414b",
     "grade": true,
     "grade_id": "cell-c7029329ad7aab78",
     "locked": true,
     "points": 10,
     "schema_version": 3,
     "solution": false,
     "task": false
    }
   },
   "outputs": [],
   "source": [
    "%%capture out\n",
    "with TemporaryDirectory() as temp_dir:\n",
    "    movie_db = MovieDB(temp_dir)\n",
    "    movie_db.add_movies([\n",
    "        {'title': 'The Matrix', 'year': 1999, 'genre': 'Action', \n",
    "         'director': 'Wachowskis, The'}, \n",
    "        {'title': 'Shrek',  'genre': 'Comedy', 'director': 'Adamson, Andrew', \n",
    "         'year': 2001},\n",
    "        {'year': 2003, 'genre': 'Action', 'title': 'The Matrix Reloaded'},\n",
    "        {'title': 'Shrek', 'year': 2001, 'genre': 'Comedy', \n",
    "         'director': 'Adamson, Andrew'},\n",
    "        {'title': 'The Matrix Revolutions','year': 2003, 'genre': 'Action', \n",
    "         'director': 'Wachowskis, The'}\n",
    "    ])"
   ]
  },
  {
   "cell_type": "code",
   "execution_count": null,
   "metadata": {
    "ExecuteTime": {
     "end_time": "2021-06-14T04:25:16.177653Z",
     "start_time": "2021-06-14T04:25:16.175366Z"
    },
    "deletable": false,
    "editable": false,
    "nbgrader": {
     "cell_type": "code",
     "checksum": "0e0dd7c592f93f03630adf5cd092d5b6",
     "grade": true,
     "grade_id": "cell-d8b114bdb507d3d2",
     "locked": true,
     "points": 10,
     "schema_version": 3,
     "solution": false,
     "task": false
    }
   },
   "outputs": [],
   "source": [
    "assert_equal(\n",
    "    out.stdout,\n",
    "    'Warning: movie index 2 has invalid or incomplete information. '\n",
    "    'Skipping...\\n'\n",
    "    'Warning: movie Shrek is already in the database. Skipping...\\n'\n",
    ")"
   ]
  },
  {
   "cell_type": "markdown",
   "metadata": {
    "deletable": false,
    "editable": false,
    "nbgrader": {
     "cell_type": "markdown",
     "checksum": "64e09f0406a693baafdedebc436e9e62",
     "grade": false,
     "grade_id": "cell-67c5d102b86a99bb",
     "locked": true,
     "schema_version": 3,
     "solution": false,
     "task": false
    }
   },
   "source": [
    "### Deleting a movie in the database"
   ]
  },
  {
   "cell_type": "code",
   "execution_count": null,
   "metadata": {
    "ExecuteTime": {
     "end_time": "2021-06-14T04:25:16.198962Z",
     "start_time": "2021-06-14T04:25:16.179042Z"
    },
    "deletable": false,
    "editable": false,
    "nbgrader": {
     "cell_type": "code",
     "checksum": "67b5b12e625af8b97167dc0774c44815",
     "grade": true,
     "grade_id": "cell-d78f0811e5a2da94",
     "locked": true,
     "points": 10,
     "schema_version": 3,
     "solution": false,
     "task": false
    }
   },
   "outputs": [],
   "source": [
    "with TemporaryDirectory() as temp_dir:\n",
    "    movie_db = MovieDB(temp_dir)\n",
    "    assert_raises(MovieDBError, lambda: movie_db.delete_movie(1))\n",
    "    shutil.copy('movies_test.csv', os.path.join(temp_dir, 'movies.csv'))\n",
    "    shutil.copy('directors_test.csv', os.path.join(temp_dir, 'directors.csv'))\n",
    "    movie_db.delete_movie(1)\n",
    "    assert_raises(MovieDBError, lambda: movie_db.delete_movie(1))"
   ]
  },
  {
   "cell_type": "markdown",
   "metadata": {
    "deletable": false,
    "editable": false,
    "nbgrader": {
     "cell_type": "markdown",
     "checksum": "de5e1ed8490b26b14a62c2eb601c9880",
     "grade": false,
     "grade_id": "cell-886f95741a20499e",
     "locked": true,
     "schema_version": 3,
     "solution": false,
     "task": false
    }
   },
   "source": [
    "### Searching for movies in the database"
   ]
  },
  {
   "cell_type": "code",
   "execution_count": null,
   "metadata": {
    "ExecuteTime": {
     "end_time": "2021-06-14T04:25:16.216109Z",
     "start_time": "2021-06-14T04:25:16.200497Z"
    },
    "deletable": false,
    "editable": false,
    "nbgrader": {
     "cell_type": "code",
     "checksum": "3b7a9f2bf61e19c5442007b2f49beb13",
     "grade": true,
     "grade_id": "cell-6095e55a61a061aa",
     "locked": true,
     "points": 10,
     "schema_version": 3,
     "solution": false,
     "task": false
    }
   },
   "outputs": [],
   "source": [
    "with TemporaryDirectory() as temp_dir:\n",
    "    movie_db = MovieDB(temp_dir)\n",
    "    assert_raises(MovieDBError, lambda: movie_db.search_movies())\n",
    "    assert_equal(movie_db.search_movies(title='Spider-man'), [])\n",
    "    shutil.copy('movies_test.csv', os.path.join(temp_dir, 'movies.csv'))\n",
    "    shutil.copy('directors_test.csv', os.path.join(temp_dir, 'directors.csv'))\n",
    "    assert_raises(MovieDBError, lambda: movie_db.search_movies())\n",
    "    assert_equal(movie_db.search_movies(title='Spider-man'), [5, 6, 7])\n",
    "    assert_equal(movie_db.search_movies(year=2002), [6, 7])"
   ]
  },
  {
   "cell_type": "markdown",
   "metadata": {
    "deletable": false,
    "editable": false,
    "nbgrader": {
     "cell_type": "markdown",
     "checksum": "c07cf2f8b7dec0ef37728c79d5476c41",
     "grade": false,
     "grade_id": "cell-d0af76db146a39c4",
     "locked": true,
     "schema_version": 3,
     "solution": false,
     "task": false
    }
   },
   "source": [
    "### Exporting data"
   ]
  },
  {
   "cell_type": "code",
   "execution_count": null,
   "metadata": {
    "ExecuteTime": {
     "end_time": "2021-06-14T04:25:16.248048Z",
     "start_time": "2021-06-14T04:25:16.218206Z"
    },
    "deletable": false,
    "editable": false,
    "nbgrader": {
     "cell_type": "code",
     "checksum": "00535bc3ff952d06f9342b97001b1a14",
     "grade": true,
     "grade_id": "cell-65c33d520278536c",
     "locked": true,
     "points": 10,
     "schema_version": 3,
     "solution": false,
     "task": false
    }
   },
   "outputs": [],
   "source": [
    "with TemporaryDirectory() as temp_dir:\n",
    "    movie_db = MovieDB(temp_dir)\n",
    "    df_export = movie_db.export_data()\n",
    "    assert_equal(isinstance(df_export, pd.DataFrame), True)\n",
    "    assert_equal(\n",
    "        df_export.columns.tolist(), \n",
    "        ['title', 'year', 'genre', 'director_last_name', \n",
    "         'director_given_name']\n",
    "    )\n",
    "    assert_equal(len(df_export), 0)\n",
    "    shutil.copy('movies_test.csv', os.path.join(temp_dir, 'movies.csv'))\n",
    "    shutil.copy('directors_test.csv', os.path.join(temp_dir, 'directors.csv'))\n",
    "    df_export = movie_db.export_data()\n",
    "    assert_equal(isinstance(df_export, pd.DataFrame), True)\n",
    "    assert_equal(\n",
    "        df_export.columns.tolist(), \n",
    "        ['title', 'year', 'genre', 'director_last_name', \n",
    "         'director_given_name']\n",
    "    )\n",
    "    assert_equal(\n",
    "        df_export.iloc[:3].values.tolist(),\n",
    "        [['The Matrix', 1999, 'Action', 'Wachowskis', 'The'],\n",
    "         ['Shrek', 2001, 'Comedy', 'Adamson', 'Andrew'],\n",
    "         ['The Matrix Reloaded', 2003, 'Action', 'Wachowskis', 'The']]\n",
    "    )"
   ]
  },
  {
   "cell_type": "markdown",
   "metadata": {
    "deletable": false,
    "editable": false,
    "nbgrader": {
     "cell_type": "markdown",
     "checksum": "a379a0d8da464488e784d6df72135ade",
     "grade": false,
     "grade_id": "cell-78014806f30d6878",
     "locked": true,
     "schema_version": 3,
     "solution": false,
     "task": false
    }
   },
   "source": [
    "### Generating statistics"
   ]
  },
  {
   "cell_type": "code",
   "execution_count": null,
   "metadata": {
    "ExecuteTime": {
     "end_time": "2021-06-14T04:25:16.290314Z",
     "start_time": "2021-06-14T04:25:16.250135Z"
    },
    "deletable": false,
    "editable": false,
    "nbgrader": {
     "cell_type": "code",
     "checksum": "c91f862149679bc6e95555ae604c6ed2",
     "grade": true,
     "grade_id": "cell-731169cc80101554",
     "locked": true,
     "points": 10,
     "schema_version": 3,
     "solution": false,
     "task": false
    }
   },
   "outputs": [],
   "source": [
    "with TemporaryDirectory() as temp_dir:\n",
    "    movie_db = MovieDB(temp_dir)\n",
    "    assert_raises(MovieDBError, lambda: movie_db.generate_statistics('Movie'))\n",
    "    assert_equal(movie_db.generate_statistics('movie'), {})\n",
    "    assert_equal(movie_db.generate_statistics('genre'), {})\n",
    "    assert_equal(movie_db.generate_statistics('director'), {})\n",
    "    assert_equal(\n",
    "        movie_db.generate_statistics('all'), \n",
    "        {'movie': {}, 'genre': {}, 'director': {}}\n",
    "    )\n",
    "    shutil.copy('movies_test2.csv', os.path.join(temp_dir, 'movies.csv'))\n",
    "    shutil.copy('directors_test2.csv', \n",
    "                os.path.join(temp_dir, 'directors.csv'))\n",
    "    stats_movie = movie_db.generate_statistics('movie')\n",
    "    assert_equal(len(stats_movie), 31)\n",
    "    assert_equal(stats_movie[2007], 220)\n",
    "    assert_equal(stats_movie[2016], 220)"
   ]
  },
  {
   "cell_type": "code",
   "execution_count": null,
   "metadata": {
    "ExecuteTime": {
     "end_time": "2021-06-14T04:25:23.085283Z",
     "start_time": "2021-06-14T04:25:16.292730Z"
    },
    "deletable": false,
    "editable": false,
    "nbgrader": {
     "cell_type": "code",
     "checksum": "7f109e0e7666751bab1a3a1494fc3d6f",
     "grade": true,
     "grade_id": "cell-831169cc80101554",
     "locked": true,
     "points": 10,
     "schema_version": 3,
     "solution": false,
     "task": false
    }
   },
   "outputs": [],
   "source": [
    "with TemporaryDirectory() as temp_dir:\n",
    "    movie_db = MovieDB(temp_dir)\n",
    "    shutil.copy('movies_test2.csv', os.path.join(temp_dir, 'movies.csv'))\n",
    "    shutil.copy('directors_test2.csv', \n",
    "                os.path.join(temp_dir, 'directors.csv'))\n",
    "    stats_genre = movie_db.generate_statistics('genre')\n",
    "    assert_equal(len(stats_genre), 17)\n",
    "    assert_equal(len(stats_genre['Adventure']), 31)\n",
    "    assert_equal(\n",
    "        stats_genre['Adventure'],\n",
    "        {2009: 19, 2005: 19, 1995: 19, 1986: 16, 1994: 16, 2016: 16, 2012: 15,\n",
    "         2007: 15, 1989: 15, 1992: 14, 2013: 14, 2010: 14, 2006: 14, 2014: 13,\n",
    "         1993: 12, 2011: 12, 2008: 12, 2001: 12, 2000: 12, 2003: 11, 1990: 11,\n",
    "         2015: 11, 1997: 10, 1996: 10, 2002: 9, 1987: 9, 1988: 9, 1991: 9,\n",
    "         1999: 8, 1998: 8, 2004: 8}\n",
    "    )\n",
    "    stats_director = movie_db.generate_statistics('director')\n",
    "    assert_equal(len(stats_director), 2753)\n",
    "    assert_equal(\n",
    "        stats_director['Spielberg, Steven'],\n",
    "        {1989: 2, 1993: 2, 1997: 2, 2002: 2, 2005: 2, 2011: 2, 2016: 1,\n",
    "         1987: 1, 1991: 1, 1998: 1, 2001: 1, 2004: 1, 2008: 1, 2012: 1,\n",
    "         2015: 1}\n",
    "    )\n",
    "    stats_all = movie_db.generate_statistics('all')\n",
    "    assert_equal(set(stats_all.keys()), {'movie', 'genre', 'director'})\n",
    "    assert_equal(len(stats_all['movie']), 31)\n",
    "    assert_equal(stats_all['movie'][2007], 220)\n",
    "    assert_equal(stats_all['movie'][2016], 220)\n",
    "    assert_equal(len(stats_all['genre']), 17)\n",
    "    assert_equal(len(stats_all['genre']['Adventure']), 31)\n",
    "    assert_equal(\n",
    "        stats_all['genre']['Adventure'],\n",
    "        {2009: 19, 2005: 19, 1995: 19, 1986: 16, 1994: 16, 2016: 16, 2012: 15,\n",
    "         2007: 15, 1989: 15, 1992: 14, 2013: 14, 2010: 14, 2006: 14, 2014: 13,\n",
    "         1993: 12, 2011: 12, 2008: 12, 2001: 12, 2000: 12, 2003: 11, 1990: 11,\n",
    "         2015: 11, 1997: 10, 1996: 10, 2002: 9, 1987: 9, 1988: 9, 1991: 9,\n",
    "         1999: 8, 1998: 8, 2004: 8}\n",
    "    )\n",
    "    assert_equal(len(stats_all['director']), 2753)\n",
    "    assert_equal(\n",
    "        stats_all['director']['Spielberg, Steven'],\n",
    "        {1989: 2, 1993: 2, 1997: 2, 2002: 2, 2005: 2, 2011: 2, 2016: 1,\n",
    "         1987: 1, 1991: 1, 1998: 1, 2001: 1, 2004: 1, 2008: 1, 2012: 1,\n",
    "         2015: 1}\n",
    "    )"
   ]
  },
  {
   "cell_type": "markdown",
   "metadata": {
    "deletable": false,
    "editable": false,
    "nbgrader": {
     "cell_type": "markdown",
     "checksum": "c79f4d5f337ed0fe96d3725fdf80eea5",
     "grade": false,
     "grade_id": "cell-06bf997bfde078e8",
     "locked": true,
     "schema_version": 3,
     "solution": false,
     "task": false
    }
   },
   "source": [
    "### Plotting statistics"
   ]
  },
  {
   "cell_type": "code",
   "execution_count": null,
   "metadata": {
    "ExecuteTime": {
     "end_time": "2021-06-14T07:25:00.784635Z",
     "start_time": "2021-06-14T07:25:00.702402Z"
    },
    "deletable": false,
    "editable": false,
    "nbgrader": {
     "cell_type": "code",
     "checksum": "acc43adbaa950a1abc50e8b25dccce0b",
     "grade": true,
     "grade_id": "cell-13fc49db79dc8a03",
     "locked": true,
     "points": 10,
     "schema_version": 3,
     "solution": false,
     "task": false
    }
   },
   "outputs": [],
   "source": [
    "with TemporaryDirectory() as temp_dir:\n",
    "    movie_db = MovieDB(temp_dir)\n",
    "    shutil.copy('movies_test2.csv', os.path.join(temp_dir, 'movies.csv'))\n",
    "    shutil.copy('directors_test2.csv', \n",
    "                os.path.join(temp_dir, 'directors.csv'))\n",
    "    ax_movie = movie_db.plot_statistics('movie')\n",
    "    ax_movie.get_figure().canvas.draw()\n",
    "    assert_equal(\n",
    "        [t.get_text() for t in ax_movie.get_xticklabels()],\n",
    "        ['1980', '1985', '1990', '1995', '2000', \n",
    "         '2005', '2010', '2015', '2020']\n",
    "    )\n",
    "    assert_equal(\n",
    "        [t.get_text() for t in ax_movie.get_yticklabels()],\n",
    "        ['0', '50', '100', '150', '200', '250']\n",
    "    )\n",
    "    assert_equal(ax_movie.get_ylabel(), 'movies')\n",
    "    assert_equal(\n",
    "        [h.get_height() for h in ax_movie.patches],\n",
    "        [219, 219, 219, 220, 219, 220, 220, 220, 220, 220, 220, 219, 220, 220,\n",
    "         219, 220, 220, 219, 219, 220, 219, 220, 220, 219, 220, 219, 218, 220,\n",
    "         219, 220, 220]\n",
    "    )\n",
    "    ax_genre = movie_db.plot_statistics('genre')\n",
    "    ax_genre.get_figure().canvas.draw()\n",
    "    assert_equal(\n",
    "        [t.get_text() for t in ax_genre.get_xticklabels()],\n",
    "        ['1980', '1985', '1990', '1995', '2000', \n",
    "         '2005', '2010', '2015', '2020']\n",
    "    )\n",
    "    assert_equal(\n",
    "        [t.get_text() for t in ax_genre.get_yticklabels()],\n",
    "        ['−20', '0', '20', '40', '60', '80', '100']\n",
    "    )\n",
    "    assert_equal(ax_genre.get_ylabel(), 'movies')\n",
    "    assert_equal(len(ax_genre.lines), 17)\n",
    "    assert_equal(\n",
    "        ax_genre.lines[0].get_xdata().tolist(),\n",
    "        [1986, 1987, 1988, 1989, 1990, 1991, 1992, 1993, 1994, 1995, 1996,\n",
    "         1997, 1998, 1999, 2000, 2001, 2002, 2003, 2004, 2005, 2006, 2007,\n",
    "         2008, 2009, 2010, 2011, 2012, 2013, 2014, 2015, 2016]\n",
    "    )\n",
    "    assert_equal(\n",
    "        ax_genre.lines[0].get_ydata().tolist(),\n",
    "        [49, 47, 35, 46, 46, 42, 37, 34, 33, 42, 35, 54, 39, 30, 33, 34, 42,\n",
    "         51, 40, 44, 35, 36, 52, 35, 52, 49, 45, 52, 47, 47, 61]\n",
    "    )\n",
    "    assert_equal(ax_genre.lines[0].get_marker(), 'o')\n",
    "    assert_equal(ax_genre.lines[0].get_ls(), '-')\n",
    "    assert_equal(\n",
    "        [t.get_text() for t in ax_genre.legend_.get_texts()[:5]],\n",
    "        ['Action', 'Adventure', 'Animation', 'Biography', 'Comedy']\n",
    "    )\n",
    "    ax_director = movie_db.plot_statistics('director')\n",
    "    ax_director.get_figure().canvas.draw()\n",
    "    assert_equal(\n",
    "        [t.get_text() for t in ax_director.get_xticklabels()],\n",
    "        ['1980', '1985', '1990', '1995', '2000', \n",
    "         '2005', '2010', '2015', '2020']\n",
    "    )\n",
    "    assert_equal(\n",
    "        [t.get_text() for t in ax_director.get_yticklabels()],\n",
    "        ['0.8', '1.0', '1.2', '1.4', '1.6', '1.8', '2.0', '2.2']\n",
    "    )\n",
    "    assert_equal(ax_director.get_ylabel(), 'movies')\n",
    "    assert_equal(len(ax_director.lines), 5)\n",
    "    assert_equal(\n",
    "        ax_director.lines[0].get_xdata().tolist(),\n",
    "        [1986, 1987, 1988, 1989, 1990, 1991, 1992, 1993, 1994, 1995, 1996,\n",
    "         1997, 1998, 1999, 2000, 2001, 2002, 2003, 2004, 2005, 2006, 2007,\n",
    "         2008, 2009, 2010, 2011, 2012, 2013, 2014, 2015, 2016]\n",
    "    )\n",
    "    assert_equal(\n",
    "        ax_director.lines[0].get_ydata().tolist(),\n",
    "        [1, 2, 1, 2, 1, 1, 1, 1, 1, 1, 1, 1, 1, 1, 1, 1, 1, 1, 1, 1, 1, 1, 1,\n",
    "         1, 1, 1, 1, 1, 1, 1, 1]\n",
    "    )\n",
    "    assert_equal(ax_director.lines[0].get_marker(), 'o')\n",
    "    assert_equal(ax_director.lines[0].get_ls(), '-')\n",
    "    assert_equal(\n",
    "        [t.get_text() for t in ax_director.legend_.get_texts()[:3]],\n",
    "        ['Allen, Woody', 'Eastwood, Clint', 'Soderbergh, Steven']\n",
    "    )"
   ]
  },
  {
   "cell_type": "markdown",
   "metadata": {
    "deletable": false,
    "editable": false,
    "nbgrader": {
     "cell_type": "markdown",
     "checksum": "c2bbbeb334452b0c94a9208526d287cf",
     "grade": false,
     "grade_id": "cell-8f2f72172df902bc",
     "locked": true,
     "schema_version": 3,
     "solution": false,
     "task": false
    }
   },
   "source": [
    "### Token frequency"
   ]
  },
  {
   "cell_type": "code",
   "execution_count": null,
   "metadata": {
    "ExecuteTime": {
     "end_time": "2021-06-14T04:25:27.539352Z",
     "start_time": "2021-06-14T04:25:27.503480Z"
    },
    "deletable": false,
    "editable": false,
    "nbgrader": {
     "cell_type": "code",
     "checksum": "a9b0366656086ef1e10e851ebe89258f",
     "grade": true,
     "grade_id": "cell-a434995cc2b8dccf",
     "locked": true,
     "points": 10,
     "schema_version": 3,
     "solution": false,
     "task": false
    }
   },
   "outputs": [],
   "source": [
    "with TemporaryDirectory() as temp_dir:\n",
    "    movie_db = MovieDB(temp_dir)\n",
    "    assert_equal(movie_db.token_freq(), {})\n",
    "    shutil.copy('movies_test2.csv', os.path.join(temp_dir, 'movies.csv'))\n",
    "    shutil.copy('directors_test2.csv', \n",
    "                os.path.join(temp_dir, 'directors.csv'))\n",
    "    token_freq = movie_db.token_freq()\n",
    "    assert_equal(len(token_freq), 6534)\n",
    "    assert_equal(token_freq['the'], 1874)\n",
    "    assert_equal(token_freq['spider-man'], 5)"
   ]
  }
 ],
 "metadata": {
  "kernelspec": {
   "display_name": "Python 3",
   "language": "python",
   "name": "python3"
  },
  "language_info": {
   "codemirror_mode": {
    "name": "ipython",
    "version": 3
   },
   "file_extension": ".py",
   "mimetype": "text/x-python",
   "name": "python",
   "nbconvert_exporter": "python",
   "pygments_lexer": "ipython3",
   "version": "3.8.5"
  },
  "toc": {
   "base_numbering": 1,
   "nav_menu": {},
   "number_sections": true,
   "sideBar": true,
   "skip_h1_title": false,
   "title_cell": "Table of Contents",
   "title_sidebar": "Contents",
   "toc_cell": false,
   "toc_position": {
    "height": "calc(100% - 180px)",
    "left": "10px",
    "top": "150px",
    "width": "313px"
   },
   "toc_section_display": true,
   "toc_window_display": false
  },
  "varInspector": {
   "cols": {
    "lenName": 16,
    "lenType": 16,
    "lenVar": 40
   },
   "kernels_config": {
    "python": {
     "delete_cmd_postfix": "",
     "delete_cmd_prefix": "del ",
     "library": "var_list.py",
     "varRefreshCmd": "print(var_dic_list())"
    },
    "r": {
     "delete_cmd_postfix": ") ",
     "delete_cmd_prefix": "rm(",
     "library": "var_list.r",
     "varRefreshCmd": "cat(var_dic_list()) "
    }
   },
   "types_to_exclude": [
    "module",
    "function",
    "builtin_function_or_method",
    "instance",
    "_Feature"
   ],
   "window_display": false
  }
 },
 "nbformat": 4,
 "nbformat_minor": 2
}
