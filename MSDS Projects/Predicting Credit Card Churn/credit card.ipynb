{
 "cells": [
  {
   "cell_type": "markdown",
   "metadata": {},
   "source": [
    "### Import Libraries"
   ]
  },
  {
   "cell_type": "code",
   "execution_count": 25,
   "metadata": {
    "ExecuteTime": {
     "end_time": "2021-10-19T10:36:22.163897Z",
     "start_time": "2021-10-19T10:36:22.149934Z"
    }
   },
   "outputs": [],
   "source": [
    "import pandas as pd\n",
    "import numpy as np\n",
    "import matplotlib.pyplot as plt\n",
    "import seaborn as sns\n",
    "from utilities import *\n",
    "\n",
    "import time\n",
    "from tqdm import tqdm\n",
    "from sklearn.metrics import precision_score, recall_score\n",
    "from sklearn.neighbors import KNeighborsClassifier\n",
    "from sklearn.svm import SVC\n",
    "from sklearn.linear_model import LogisticRegression\n",
    "from sklearn.naive_bayes import GaussianNB\n",
    "from sklearn.tree import DecisionTreeClassifier\n",
    "from sklearn.ensemble import (RandomForestClassifier,  \n",
    "                              GradientBoostingClassifier)\n",
    "from sklearn.model_selection import train_test_split, KFold, StratifiedKFold\n",
    "from imblearn.over_sampling import SMOTE, ADASYN, SMOTENC\n",
    "\n",
    "import warnings \n",
    "warnings.filterwarnings(\"ignore\")\n",
    "\n",
    "plt.rcParams['figure.figsize'] = (12, 7)"
   ]
  },
  {
   "cell_type": "markdown",
   "metadata": {
    "ExecuteTime": {
     "start_time": "2021-09-13T11:20:35.312Z"
    }
   },
   "source": [
    "### Loading the Dataset"
   ]
  },
  {
   "cell_type": "code",
   "execution_count": 2,
   "metadata": {
    "ExecuteTime": {
     "end_time": "2021-10-19T09:53:18.663044Z",
     "start_time": "2021-10-19T09:53:18.606687Z"
    }
   },
   "outputs": [],
   "source": [
    "df = pd.read_csv('BankChurners.csv.zip')\n",
    "df = df.iloc[:, 1:21]"
   ]
  },
  {
   "cell_type": "markdown",
   "metadata": {},
   "source": [
    "### Data Summary"
   ]
  },
  {
   "cell_type": "markdown",
   "metadata": {
    "ExecuteTime": {
     "end_time": "2021-09-14T14:47:22.146363Z",
     "start_time": "2021-09-14T14:47:22.118732Z"
    }
   },
   "source": [
    "<table style=\"width:100%\">\n",
    "  <tr>\n",
    "    <th>Features</th>\n",
    "    <th>Description</th>\n",
    "    <th>Data Type</th>\n",
    "  </tr>\n",
    "  <tr>\n",
    "    <td>Attrition_Flag</td>\n",
    "    <td>Internal event (customer activity) variable - if the account is closed then \"Attrited Customer\" else \"Existing Customer\"</td>\n",
    "    <td>string (Nominal)</td>\n",
    "  </tr>\n",
    "   <tr>\n",
    "    <td>Customer_Age</td>\n",
    "    <td>Age in Years</td>\n",
    "    <td>int</td>\n",
    "  </tr> \n",
    "  <tr>\n",
    "    <td>Gender</td>\n",
    "    <td>Gender of the account holder</td>\n",
    "    <td>string (Nominal)</td>\n",
    "  </tr>\n",
    "  <tr>\n",
    "    <td>Dependent_count</td>\n",
    "    <td>Number of dependents</td>\n",
    "    <td>int</td>\n",
    "  </tr>\n",
    "  <tr>\n",
    "    <td>Education_Level</td>\n",
    "    <td>Educational Qualification of the account holder - Graduate, High School, Unknown, Uneducated, College(refers to a college student), Post-Graduate, Doctorate.</td>\n",
    "    <td>string (Ordinal)</td>\n",
    "  </tr>  \n",
    "  <tr>\n",
    "    <td>Marital_Status</td>\n",
    "    <td>Marital status of the account holder</td>\n",
    "    <td>string (Nominal)</td>\n",
    "  </tr>\n",
    "  <tr>\n",
    "    <td>Income_Category</td>\n",
    "    <td>Annual Income Category of the account holder</td>\n",
    "    <td>string (Nominal)</td>\n",
    "  </tr>\n",
    "  <tr>\n",
    "    <td>Card_Category</td>\n",
    "    <td>Type of Card</td>\n",
    "    <td>string (Ordinal)</td>\n",
    "  </tr>  \n",
    "  <tr>\n",
    "    <td>Months_on_book</td>\n",
    "    <td>Period of relationship with the bank</td>\n",
    "    <td>int</td>\n",
    "  </tr>\n",
    "  <tr>\n",
    "    <td>Total_Relationship_Count</td>\n",
    "    <td>Total no. of products held by the customer</td>\n",
    "    <td>int</td>\n",
    "  </tr>   \n",
    "   <tr>\n",
    "    <td>Months_Inactive_12_mon</td>\n",
    "    <td>No. of months inactive in the last 12 months</td>\n",
    "    <td>int</td>\n",
    "  </tr>   \n",
    "   <tr>\n",
    "    <td>Contacts_Count_12_mon</td>\n",
    "    <td>No. of Contacts between the customer and bank in the last 12 months</td>\n",
    "    <td>int</td>\n",
    "  </tr>   \n",
    "    <tr>\n",
    "    <td>Credit_Limit</td>\n",
    "    <td>Credit Limit on the Credit Card</td>\n",
    "    <td>float</td>\n",
    "  </tr>\n",
    "   <tr>\n",
    "    <td>Total_Revolving_Bal</td>\n",
    "    <td>The balance that carries over from one month to the next is the revolving balance</td>\n",
    "    <td>int</td>\n",
    "  </tr>  \n",
    "   <tr>\n",
    "    <td>Avg_Open_To_Buy</td>\n",
    "    <td>Open to Buy refers to the amount left on the credit card to use (Average of last 12 months)</td>\n",
    "    <td>float</td>\n",
    "  </tr>  \n",
    "    <tr>\n",
    "    <td>Total_Trans_Amt</td>\n",
    "    <td>Total Transaction Amount (Last 12 months)</td>\n",
    "    <td>int</td>\n",
    "  </tr> \n",
    "    <tr>\n",
    "    <td>Total_Trans_Ct</td>\n",
    "    <td>Total Transaction Count (Last 12 months)</td>\n",
    "    <td>int</td>\n",
    "  </tr> \n",
    "    <tr>\n",
    "    <td>Total_Ct_Chng_Q4_Q1</td>\n",
    "    <td>Ratio of the total transaction count in 4th quarter and the total transaction count in 1st quarter</td>\n",
    "    <td>float</td>\n",
    "  </tr> \n",
    "    <tr>\n",
    "    <td>Total_Amt_Chng_Q4_Q1</td>\n",
    "    <td>Ratio of the total transaction amount in 4th quarter and the total transaction amount in 1st quarter</td>\n",
    "    <td>float</td>\n",
    "  </tr> \n",
    "    <tr>\n",
    "    <td>Avg_Utilization_Ration</td>\n",
    "    <td>Represents how much of the available credit the customer spent</td>\n",
    "    <td>float</td>\n",
    "  </tr>\n",
    "</table> "
   ]
  },
  {
   "cell_type": "markdown",
   "metadata": {
    "ExecuteTime": {
     "end_time": "2021-09-13T11:23:54.827104Z",
     "start_time": "2021-09-13T11:23:54.822257Z"
    }
   },
   "source": [
    "### Exploratory Data Analysis"
   ]
  },
  {
   "cell_type": "code",
   "execution_count": null,
   "metadata": {
    "ExecuteTime": {
     "end_time": "2021-10-19T08:51:20.563888Z",
     "start_time": "2021-10-19T08:51:20.210339Z"
    }
   },
   "outputs": [],
   "source": [
    "plot_features(df, 'Marital_Status', 1)"
   ]
  },
  {
   "cell_type": "code",
   "execution_count": null,
   "metadata": {
    "ExecuteTime": {
     "end_time": "2021-10-19T08:51:21.712919Z",
     "start_time": "2021-10-19T08:51:21.414717Z"
    }
   },
   "outputs": [],
   "source": [
    "plot_features(df, 'Education_Level', 2)"
   ]
  },
  {
   "cell_type": "code",
   "execution_count": null,
   "metadata": {
    "ExecuteTime": {
     "end_time": "2021-10-19T08:51:26.712756Z",
     "start_time": "2021-10-19T08:51:25.799163Z"
    }
   },
   "outputs": [],
   "source": [
    "plot_features(df, 'Income_Category', 3)"
   ]
  },
  {
   "cell_type": "markdown",
   "metadata": {},
   "source": [
    "Figure 1, 2, and 3 shows the distribution of the features that has 'Unknown' data points. <br><br>\n",
    "Total # of Unknowns: <br>\n",
    "`Marital_Status` = 749 datapoints which is 7.4% <br>\n",
    "`Education_Level` = 1,519 datapoints which is 15.0% <br>\n",
    "`Income_Category` = 1,112 datapoints which is 11.0% <br>\n",
    "\n",
    "Total Unknown value = 3380"
   ]
  },
  {
   "cell_type": "code",
   "execution_count": null,
   "metadata": {
    "ExecuteTime": {
     "end_time": "2021-10-19T08:51:29.340423Z",
     "start_time": "2021-10-19T08:51:29.088553Z"
    }
   },
   "outputs": [],
   "source": [
    "plot_features(df, 'Attrition_Flag', 4)"
   ]
  },
  {
   "cell_type": "markdown",
   "metadata": {},
   "source": [
    "The Attrited Customer data is at 16.07% which indicates that our dataset is imbalanced since we will be using the `Attrition_Flag` as target variable when feeding it to the Machine Learning models."
   ]
  },
  {
   "cell_type": "code",
   "execution_count": null,
   "metadata": {
    "ExecuteTime": {
     "end_time": "2021-09-14T12:44:04.942697Z",
     "start_time": "2021-09-14T12:44:03.870315Z"
    }
   },
   "outputs": [],
   "source": [
    "corr_df = df.copy()\n",
    "corr_df.Attrition_Flag = np.where(corr_df.Attrition_Flag == 'Existing Customer', 0, 1)\n",
    "\n",
    "corr_ = corr_df.corr()\n",
    "mask = np.triu(np.ones_like(corr_))\n",
    "sns.heatmap(corr_, annot=True, mask=mask)\n",
    "plt.title('Figure 5. Correlation Table');"
   ]
  },
  {
   "cell_type": "markdown",
   "metadata": {},
   "source": [
    "The correlation table in Figure 5 shows that `Total_Relationship_Count`, `Credit_Limit`, `Total_Revolving_Bal`, `Total_Amt_Chng_Q4_Q1`, `Total_Trans_Amt`, `Total_Trans_Ct`, `Total_Ct_Chng_Q4_Q1` and `Avg_Utilization_Ratio` are negatively correlated with `Attrition_Flag`. <br> This means the lower the values of these features, the higher the chances of a customer to churn."
   ]
  },
  {
   "cell_type": "code",
   "execution_count": null,
   "metadata": {
    "ExecuteTime": {
     "end_time": "2021-09-14T12:45:22.918035Z",
     "start_time": "2021-09-14T12:44:06.079122Z"
    }
   },
   "outputs": [],
   "source": [
    "sns.pairplot(data=df, hue='Attrition_Flag', corner=True)\n",
    "plt.title('Figure 6. Pair Plot of All Numerical Features');"
   ]
  },
  {
   "cell_type": "markdown",
   "metadata": {},
   "source": [
    "The pair plot shows the different distribution plots of the numerical features of the dataset which is segregated by `Attrition_Flag`."
   ]
  },
  {
   "cell_type": "markdown",
   "metadata": {
    "ExecuteTime": {
     "start_time": "2021-09-13T11:21:02.120Z"
    }
   },
   "source": [
    "### Data Cleaning and Pre-Processing (Step 1 to 4)"
   ]
  },
  {
   "cell_type": "markdown",
   "metadata": {},
   "source": [
    "#### Step 1. Identify missing values in tabular data\n",
    "Missing values were identified in the bar plots under Exploratory Data Analysis where they were tagged as `Unknown` datapoints. \n",
    "\n",
    "#### Step 2. Eliminate samples or features with missing values\n",
    "The missing values tagged as 'Unknown' are removed in the dataset before feeding it into the machine learning model. A total of 3,380 unknown values would be removed."
   ]
  },
  {
   "cell_type": "code",
   "execution_count": 3,
   "metadata": {
    "ExecuteTime": {
     "end_time": "2021-10-19T09:53:23.007849Z",
     "start_time": "2021-10-19T09:53:22.991892Z"
    }
   },
   "outputs": [],
   "source": [
    "# Dropping Unknown in the Dataset\n",
    "bank_df = df[df.Marital_Status != 'Unknown']\n",
    "bank_df = bank_df[bank_df.Education_Level != 'Unknown']\n",
    "bank_df = bank_df[bank_df.Income_Category != 'Unknown']"
   ]
  },
  {
   "cell_type": "markdown",
   "metadata": {},
   "source": [
    "#### Step 3. Imputing missing values\n",
    "No missing values were imputed since they were removed.\n",
    "\n",
    "#### Step 4. Handling Categorical data\n",
    "Ordinal features like `Education_Level` and `Card_Category` were converted to numerical values but still represented ranking. Nominal features like `Attrition_Flag` and `Gender` were converted to binary representative (1,0) and nominal features like `Marital_Status` and `Income_Category` were one-hot-encoded to represent their numerical values."
   ]
  },
  {
   "cell_type": "code",
   "execution_count": 4,
   "metadata": {
    "ExecuteTime": {
     "end_time": "2021-10-19T09:53:24.292446Z",
     "start_time": "2021-10-19T09:53:24.252550Z"
    }
   },
   "outputs": [],
   "source": [
    "# Mapping Ordinal Variables\n",
    "education = {\n",
    "    'Uneducated': 0,\n",
    "    'High School': 1,\n",
    "    'College': 2,\n",
    "    'Post-Graduate': 3,\n",
    "    'Doctorate': 4\n",
    "}\n",
    "\n",
    "card = {\n",
    "    'Blue': 0,\n",
    "    'Silver': 1,\n",
    "    'Gold': 2,\n",
    "    'Platinum': 3\n",
    "}\n",
    "\n",
    "# Converting Categorical Variables to Numerical\n",
    "bank_df.Attrition_Flag = np.where(bank_df.Attrition_Flag == 'Existing Customer', 0, 1)\n",
    "bank_df.Gender = np.where(bank_df.Gender == 'Male', 1, 0)\n",
    "bank_df.Education_Level = np.where(bank_df.Education_Level == 'Graduate', 'College', bank_df.Education_Level)\n",
    "bank_df.Education_Level = bank_df.Education_Level.map(education)\n",
    "bank_df.Card_Category = bank_df.Card_Category.map(card)\n",
    "\n",
    "# One-Hot Encoding of Categorical Variables\n",
    "bank_df = pd.get_dummies(bank_df, columns=['Marital_Status', 'Income_Category'], drop_first=True)"
   ]
  },
  {
   "cell_type": "markdown",
   "metadata": {},
   "source": [
    "### Step 5. Bringing features onto the same scale\n",
    "We check if we need to scale the data. Based on the max value per column, we need to scale the data to set them in the same scale. The scaling is done within the machine learning model function in `utilities.py`."
   ]
  },
  {
   "cell_type": "code",
   "execution_count": 5,
   "metadata": {
    "ExecuteTime": {
     "end_time": "2021-10-19T09:53:25.107265Z",
     "start_time": "2021-10-19T09:53:24.991577Z"
    }
   },
   "outputs": [
    {
     "data": {
      "text/html": [
       "<div>\n",
       "<style scoped>\n",
       "    .dataframe tbody tr th:only-of-type {\n",
       "        vertical-align: middle;\n",
       "    }\n",
       "\n",
       "    .dataframe tbody tr th {\n",
       "        vertical-align: top;\n",
       "    }\n",
       "\n",
       "    .dataframe thead th {\n",
       "        text-align: right;\n",
       "    }\n",
       "</style>\n",
       "<table border=\"1\" class=\"dataframe\">\n",
       "  <thead>\n",
       "    <tr style=\"text-align: right;\">\n",
       "      <th></th>\n",
       "      <th>Attrition_Flag</th>\n",
       "      <th>Customer_Age</th>\n",
       "      <th>Gender</th>\n",
       "      <th>Dependent_count</th>\n",
       "      <th>Education_Level</th>\n",
       "      <th>Card_Category</th>\n",
       "      <th>Months_on_book</th>\n",
       "      <th>Total_Relationship_Count</th>\n",
       "      <th>Months_Inactive_12_mon</th>\n",
       "      <th>Contacts_Count_12_mon</th>\n",
       "      <th>...</th>\n",
       "      <th>Total_Trans_Amt</th>\n",
       "      <th>Total_Trans_Ct</th>\n",
       "      <th>Total_Ct_Chng_Q4_Q1</th>\n",
       "      <th>Avg_Utilization_Ratio</th>\n",
       "      <th>Marital_Status_Married</th>\n",
       "      <th>Marital_Status_Single</th>\n",
       "      <th>Income_Category_$40K - $60K</th>\n",
       "      <th>Income_Category_$60K - $80K</th>\n",
       "      <th>Income_Category_$80K - $120K</th>\n",
       "      <th>Income_Category_Less than $40K</th>\n",
       "    </tr>\n",
       "  </thead>\n",
       "  <tbody>\n",
       "    <tr>\n",
       "      <th>count</th>\n",
       "      <td>7081.000000</td>\n",
       "      <td>7081.000000</td>\n",
       "      <td>7081.0</td>\n",
       "      <td>7081.000000</td>\n",
       "      <td>7081.000000</td>\n",
       "      <td>7081.000000</td>\n",
       "      <td>7081.000000</td>\n",
       "      <td>7081.000000</td>\n",
       "      <td>7081.000000</td>\n",
       "      <td>7081.000000</td>\n",
       "      <td>...</td>\n",
       "      <td>7081.000000</td>\n",
       "      <td>7081.000000</td>\n",
       "      <td>7081.000000</td>\n",
       "      <td>7081.000000</td>\n",
       "      <td>7081.000000</td>\n",
       "      <td>7081.000000</td>\n",
       "      <td>7081.000000</td>\n",
       "      <td>7081.000000</td>\n",
       "      <td>7081.00000</td>\n",
       "      <td>7081.000000</td>\n",
       "    </tr>\n",
       "    <tr>\n",
       "      <th>mean</th>\n",
       "      <td>0.157181</td>\n",
       "      <td>46.347691</td>\n",
       "      <td>0.0</td>\n",
       "      <td>2.337805</td>\n",
       "      <td>1.588476</td>\n",
       "      <td>0.082757</td>\n",
       "      <td>35.981359</td>\n",
       "      <td>3.819376</td>\n",
       "      <td>2.342607</td>\n",
       "      <td>2.454456</td>\n",
       "      <td>...</td>\n",
       "      <td>4394.299816</td>\n",
       "      <td>64.503319</td>\n",
       "      <td>0.711508</td>\n",
       "      <td>0.282313</td>\n",
       "      <td>0.503319</td>\n",
       "      <td>0.416325</td>\n",
       "      <td>0.199407</td>\n",
       "      <td>0.155769</td>\n",
       "      <td>0.16975</td>\n",
       "      <td>0.394295</td>\n",
       "    </tr>\n",
       "    <tr>\n",
       "      <th>std</th>\n",
       "      <td>0.363997</td>\n",
       "      <td>8.041225</td>\n",
       "      <td>0.0</td>\n",
       "      <td>1.291649</td>\n",
       "      <td>1.003723</td>\n",
       "      <td>0.328819</td>\n",
       "      <td>8.002609</td>\n",
       "      <td>1.544444</td>\n",
       "      <td>0.995104</td>\n",
       "      <td>1.104917</td>\n",
       "      <td>...</td>\n",
       "      <td>3468.461606</td>\n",
       "      <td>23.809330</td>\n",
       "      <td>0.238693</td>\n",
       "      <td>0.278731</td>\n",
       "      <td>0.500024</td>\n",
       "      <td>0.492984</td>\n",
       "      <td>0.399583</td>\n",
       "      <td>0.362662</td>\n",
       "      <td>0.37544</td>\n",
       "      <td>0.488733</td>\n",
       "    </tr>\n",
       "    <tr>\n",
       "      <th>min</th>\n",
       "      <td>0.000000</td>\n",
       "      <td>26.000000</td>\n",
       "      <td>0.0</td>\n",
       "      <td>0.000000</td>\n",
       "      <td>0.000000</td>\n",
       "      <td>0.000000</td>\n",
       "      <td>13.000000</td>\n",
       "      <td>1.000000</td>\n",
       "      <td>0.000000</td>\n",
       "      <td>0.000000</td>\n",
       "      <td>...</td>\n",
       "      <td>510.000000</td>\n",
       "      <td>10.000000</td>\n",
       "      <td>0.000000</td>\n",
       "      <td>0.000000</td>\n",
       "      <td>0.000000</td>\n",
       "      <td>0.000000</td>\n",
       "      <td>0.000000</td>\n",
       "      <td>0.000000</td>\n",
       "      <td>0.00000</td>\n",
       "      <td>0.000000</td>\n",
       "    </tr>\n",
       "    <tr>\n",
       "      <th>25%</th>\n",
       "      <td>0.000000</td>\n",
       "      <td>41.000000</td>\n",
       "      <td>0.0</td>\n",
       "      <td>1.000000</td>\n",
       "      <td>1.000000</td>\n",
       "      <td>0.000000</td>\n",
       "      <td>31.000000</td>\n",
       "      <td>3.000000</td>\n",
       "      <td>2.000000</td>\n",
       "      <td>2.000000</td>\n",
       "      <td>...</td>\n",
       "      <td>2089.000000</td>\n",
       "      <td>44.000000</td>\n",
       "      <td>0.583000</td>\n",
       "      <td>0.026000</td>\n",
       "      <td>0.000000</td>\n",
       "      <td>0.000000</td>\n",
       "      <td>0.000000</td>\n",
       "      <td>0.000000</td>\n",
       "      <td>0.00000</td>\n",
       "      <td>0.000000</td>\n",
       "    </tr>\n",
       "    <tr>\n",
       "      <th>50%</th>\n",
       "      <td>0.000000</td>\n",
       "      <td>46.000000</td>\n",
       "      <td>0.0</td>\n",
       "      <td>2.000000</td>\n",
       "      <td>2.000000</td>\n",
       "      <td>0.000000</td>\n",
       "      <td>36.000000</td>\n",
       "      <td>4.000000</td>\n",
       "      <td>2.000000</td>\n",
       "      <td>2.000000</td>\n",
       "      <td>...</td>\n",
       "      <td>3831.000000</td>\n",
       "      <td>67.000000</td>\n",
       "      <td>0.700000</td>\n",
       "      <td>0.186000</td>\n",
       "      <td>1.000000</td>\n",
       "      <td>0.000000</td>\n",
       "      <td>0.000000</td>\n",
       "      <td>0.000000</td>\n",
       "      <td>0.00000</td>\n",
       "      <td>0.000000</td>\n",
       "    </tr>\n",
       "    <tr>\n",
       "      <th>75%</th>\n",
       "      <td>0.000000</td>\n",
       "      <td>52.000000</td>\n",
       "      <td>0.0</td>\n",
       "      <td>3.000000</td>\n",
       "      <td>2.000000</td>\n",
       "      <td>0.000000</td>\n",
       "      <td>40.000000</td>\n",
       "      <td>5.000000</td>\n",
       "      <td>3.000000</td>\n",
       "      <td>3.000000</td>\n",
       "      <td>...</td>\n",
       "      <td>4740.000000</td>\n",
       "      <td>80.000000</td>\n",
       "      <td>0.818000</td>\n",
       "      <td>0.515000</td>\n",
       "      <td>1.000000</td>\n",
       "      <td>1.000000</td>\n",
       "      <td>0.000000</td>\n",
       "      <td>0.000000</td>\n",
       "      <td>0.00000</td>\n",
       "      <td>1.000000</td>\n",
       "    </tr>\n",
       "    <tr>\n",
       "      <th>max</th>\n",
       "      <td>1.000000</td>\n",
       "      <td>73.000000</td>\n",
       "      <td>0.0</td>\n",
       "      <td>5.000000</td>\n",
       "      <td>4.000000</td>\n",
       "      <td>3.000000</td>\n",
       "      <td>56.000000</td>\n",
       "      <td>6.000000</td>\n",
       "      <td>6.000000</td>\n",
       "      <td>6.000000</td>\n",
       "      <td>...</td>\n",
       "      <td>17995.000000</td>\n",
       "      <td>134.000000</td>\n",
       "      <td>3.714000</td>\n",
       "      <td>0.999000</td>\n",
       "      <td>1.000000</td>\n",
       "      <td>1.000000</td>\n",
       "      <td>1.000000</td>\n",
       "      <td>1.000000</td>\n",
       "      <td>1.00000</td>\n",
       "      <td>1.000000</td>\n",
       "    </tr>\n",
       "  </tbody>\n",
       "</table>\n",
       "<p>8 rows × 24 columns</p>\n",
       "</div>"
      ],
      "text/plain": [
       "       Attrition_Flag  Customer_Age  Gender  Dependent_count  Education_Level  \\\n",
       "count     7081.000000   7081.000000  7081.0      7081.000000      7081.000000   \n",
       "mean         0.157181     46.347691     0.0         2.337805         1.588476   \n",
       "std          0.363997      8.041225     0.0         1.291649         1.003723   \n",
       "min          0.000000     26.000000     0.0         0.000000         0.000000   \n",
       "25%          0.000000     41.000000     0.0         1.000000         1.000000   \n",
       "50%          0.000000     46.000000     0.0         2.000000         2.000000   \n",
       "75%          0.000000     52.000000     0.0         3.000000         2.000000   \n",
       "max          1.000000     73.000000     0.0         5.000000         4.000000   \n",
       "\n",
       "       Card_Category  Months_on_book  Total_Relationship_Count  \\\n",
       "count    7081.000000     7081.000000               7081.000000   \n",
       "mean        0.082757       35.981359                  3.819376   \n",
       "std         0.328819        8.002609                  1.544444   \n",
       "min         0.000000       13.000000                  1.000000   \n",
       "25%         0.000000       31.000000                  3.000000   \n",
       "50%         0.000000       36.000000                  4.000000   \n",
       "75%         0.000000       40.000000                  5.000000   \n",
       "max         3.000000       56.000000                  6.000000   \n",
       "\n",
       "       Months_Inactive_12_mon  Contacts_Count_12_mon  ...  Total_Trans_Amt  \\\n",
       "count             7081.000000            7081.000000  ...      7081.000000   \n",
       "mean                 2.342607               2.454456  ...      4394.299816   \n",
       "std                  0.995104               1.104917  ...      3468.461606   \n",
       "min                  0.000000               0.000000  ...       510.000000   \n",
       "25%                  2.000000               2.000000  ...      2089.000000   \n",
       "50%                  2.000000               2.000000  ...      3831.000000   \n",
       "75%                  3.000000               3.000000  ...      4740.000000   \n",
       "max                  6.000000               6.000000  ...     17995.000000   \n",
       "\n",
       "       Total_Trans_Ct  Total_Ct_Chng_Q4_Q1  Avg_Utilization_Ratio  \\\n",
       "count     7081.000000          7081.000000            7081.000000   \n",
       "mean        64.503319             0.711508               0.282313   \n",
       "std         23.809330             0.238693               0.278731   \n",
       "min         10.000000             0.000000               0.000000   \n",
       "25%         44.000000             0.583000               0.026000   \n",
       "50%         67.000000             0.700000               0.186000   \n",
       "75%         80.000000             0.818000               0.515000   \n",
       "max        134.000000             3.714000               0.999000   \n",
       "\n",
       "       Marital_Status_Married  Marital_Status_Single  \\\n",
       "count             7081.000000            7081.000000   \n",
       "mean                 0.503319               0.416325   \n",
       "std                  0.500024               0.492984   \n",
       "min                  0.000000               0.000000   \n",
       "25%                  0.000000               0.000000   \n",
       "50%                  1.000000               0.000000   \n",
       "75%                  1.000000               1.000000   \n",
       "max                  1.000000               1.000000   \n",
       "\n",
       "       Income_Category_$40K - $60K  Income_Category_$60K - $80K  \\\n",
       "count                  7081.000000                  7081.000000   \n",
       "mean                      0.199407                     0.155769   \n",
       "std                       0.399583                     0.362662   \n",
       "min                       0.000000                     0.000000   \n",
       "25%                       0.000000                     0.000000   \n",
       "50%                       0.000000                     0.000000   \n",
       "75%                       0.000000                     0.000000   \n",
       "max                       1.000000                     1.000000   \n",
       "\n",
       "       Income_Category_$80K - $120K  Income_Category_Less than $40K  \n",
       "count                    7081.00000                     7081.000000  \n",
       "mean                        0.16975                        0.394295  \n",
       "std                         0.37544                        0.488733  \n",
       "min                         0.00000                        0.000000  \n",
       "25%                         0.00000                        0.000000  \n",
       "50%                         0.00000                        0.000000  \n",
       "75%                         0.00000                        1.000000  \n",
       "max                         1.00000                        1.000000  \n",
       "\n",
       "[8 rows x 24 columns]"
      ]
     },
     "execution_count": 5,
     "metadata": {},
     "output_type": "execute_result"
    }
   ],
   "source": [
    "# To check if the dataset needs scaling\n",
    "bank_df.describe()"
   ]
  },
  {
   "cell_type": "markdown",
   "metadata": {},
   "source": [
    "### Setting up Features and Target Variable"
   ]
  },
  {
   "cell_type": "code",
   "execution_count": 6,
   "metadata": {
    "ExecuteTime": {
     "end_time": "2021-10-19T09:53:26.797460Z",
     "start_time": "2021-10-19T09:53:26.791476Z"
    }
   },
   "outputs": [],
   "source": [
    "X = bank_df.iloc[:, 1:] # features\n",
    "y = bank_df.Attrition_Flag # target variable"
   ]
  },
  {
   "cell_type": "markdown",
   "metadata": {
    "ExecuteTime": {
     "end_time": "2021-09-14T14:43:12.379572Z",
     "start_time": "2021-09-14T14:43:12.374662Z"
    }
   },
   "source": [
    "### Machine Learning Models"
   ]
  },
  {
   "cell_type": "code",
   "execution_count": 7,
   "metadata": {
    "ExecuteTime": {
     "end_time": "2021-10-19T09:53:27.574841Z",
     "start_time": "2021-10-19T09:53:27.548909Z"
    }
   },
   "outputs": [
    {
     "data": {
      "text/plain": [
       "91.88118427713643"
      ]
     },
     "execution_count": 7,
     "metadata": {},
     "output_type": "execute_result"
    }
   ],
   "source": [
    "# Computing PCC for benchmark on Classifier Models\n",
    "pcc = 1.25*((y.value_counts()/len(y))**2).sum() * 100\n",
    "pcc"
   ]
  },
  {
   "cell_type": "code",
   "execution_count": 8,
   "metadata": {
    "ExecuteTime": {
     "end_time": "2021-10-19T09:53:28.275965Z",
     "start_time": "2021-10-19T09:53:28.255021Z"
    }
   },
   "outputs": [],
   "source": [
    "(X_trainval, X_holdout, y_trainval, y_holdout) = train_test_split(X, y, \n",
    "                                           random_state=11, test_size=0.25, \n",
    "                                           stratify=y)"
   ]
  },
  {
   "cell_type": "code",
   "execution_count": 9,
   "metadata": {
    "ExecuteTime": {
     "end_time": "2021-10-19T09:53:29.179301Z",
     "start_time": "2021-10-19T09:53:29.165332Z"
    }
   },
   "outputs": [],
   "source": [
    "# initialize models with default hyperparamters\n",
    "models_dict = {\n",
    "    'KNeighborsClassifier': KNeighborsClassifier(),\n",
    "    'LogisticRegressor': LogisticRegression(),\n",
    "    #'LinearSVM': SVC(kernel='linear'),\n",
    "    #'RBFSVM': SVC(),\n",
    "    'GaussianNB': GaussianNB(),\n",
    "    'RandomForestClassifier': RandomForestClassifier(random_state=11),\n",
    "    'DecisionTreeClassifier': DecisionTreeClassifier(random_state=11),\n",
    "    'GradientBoostingClassifier': GradientBoostingClassifier(random_state=11)   \n",
    "}"
   ]
  },
  {
   "cell_type": "code",
   "execution_count": 10,
   "metadata": {
    "ExecuteTime": {
     "end_time": "2021-10-19T09:53:49.830825Z",
     "start_time": "2021-10-19T09:53:31.109522Z"
    },
    "scrolled": true
   },
   "outputs": [
    {
     "name": "stderr",
     "output_type": "stream",
     "text": [
      "100%|██████████| 6/6 [00:18<00:00,  3.11s/it]"
     ]
    },
    {
     "name": "stdout",
     "output_type": "stream",
     "text": [
      "Report Generated in 18.69 seconds\n"
     ]
    },
    {
     "name": "stderr",
     "output_type": "stream",
     "text": [
      "\n"
     ]
    },
    {
     "data": {
      "text/html": [
       "<div>\n",
       "<style scoped>\n",
       "    .dataframe tbody tr th:only-of-type {\n",
       "        vertical-align: middle;\n",
       "    }\n",
       "\n",
       "    .dataframe tbody tr th {\n",
       "        vertical-align: top;\n",
       "    }\n",
       "\n",
       "    .dataframe thead th {\n",
       "        text-align: right;\n",
       "    }\n",
       "</style>\n",
       "<table border=\"1\" class=\"dataframe\">\n",
       "  <thead>\n",
       "    <tr style=\"text-align: right;\">\n",
       "      <th></th>\n",
       "      <th>ave_train_acc</th>\n",
       "      <th>ave_val_acc</th>\n",
       "      <th>ave_recall_score</th>\n",
       "      <th>ave_precision_score</th>\n",
       "      <th>run_time</th>\n",
       "    </tr>\n",
       "  </thead>\n",
       "  <tbody>\n",
       "    <tr>\n",
       "      <th>KNeighborsClassifier</th>\n",
       "      <td>92.165725</td>\n",
       "      <td>89.435028</td>\n",
       "      <td>55.329341</td>\n",
       "      <td>71.232318</td>\n",
       "      <td>1.123502</td>\n",
       "    </tr>\n",
       "    <tr>\n",
       "      <th>LogisticRegressor</th>\n",
       "      <td>87.862524</td>\n",
       "      <td>88.003766</td>\n",
       "      <td>41.916168</td>\n",
       "      <td>69.731612</td>\n",
       "      <td>0.109707</td>\n",
       "    </tr>\n",
       "    <tr>\n",
       "      <th>GaussianNB</th>\n",
       "      <td>89.303202</td>\n",
       "      <td>89.284369</td>\n",
       "      <td>61.437126</td>\n",
       "      <td>67.544962</td>\n",
       "      <td>0.027926</td>\n",
       "    </tr>\n",
       "    <tr>\n",
       "      <th>RandomForestClassifier</th>\n",
       "      <td>100.000000</td>\n",
       "      <td>95.103578</td>\n",
       "      <td>75.329341</td>\n",
       "      <td>92.155767</td>\n",
       "      <td>0.951964</td>\n",
       "    </tr>\n",
       "    <tr>\n",
       "      <th>DecisionTreeClassifier</th>\n",
       "      <td>100.000000</td>\n",
       "      <td>93.069680</td>\n",
       "      <td>76.287425</td>\n",
       "      <td>78.956821</td>\n",
       "      <td>0.056845</td>\n",
       "    </tr>\n",
       "    <tr>\n",
       "      <th>GradientBoostingClassifier</th>\n",
       "      <td>97.961394</td>\n",
       "      <td>96.026365</td>\n",
       "      <td>82.155689</td>\n",
       "      <td>91.789598</td>\n",
       "      <td>1.495502</td>\n",
       "    </tr>\n",
       "  </tbody>\n",
       "</table>\n",
       "</div>"
      ],
      "text/plain": [
       "                            ave_train_acc  ave_val_acc  ave_recall_score  \\\n",
       "KNeighborsClassifier            92.165725    89.435028         55.329341   \n",
       "LogisticRegressor               87.862524    88.003766         41.916168   \n",
       "GaussianNB                      89.303202    89.284369         61.437126   \n",
       "RandomForestClassifier         100.000000    95.103578         75.329341   \n",
       "DecisionTreeClassifier         100.000000    93.069680         76.287425   \n",
       "GradientBoostingClassifier      97.961394    96.026365         82.155689   \n",
       "\n",
       "                            ave_precision_score  run_time  \n",
       "KNeighborsClassifier                  71.232318  1.123502  \n",
       "LogisticRegressor                     69.731612  0.109707  \n",
       "GaussianNB                            67.544962  0.027926  \n",
       "RandomForestClassifier                92.155767  0.951964  \n",
       "DecisionTreeClassifier                78.956821  0.056845  \n",
       "GradientBoostingClassifier            91.789598  1.495502  "
      ]
     },
     "metadata": {},
     "output_type": "display_data"
    }
   ],
   "source": [
    "# budget automl\n",
    "skf = StratifiedKFold(n_splits=5)\n",
    "\n",
    "res = {}\n",
    "\n",
    "# log start time\n",
    "total_start = time.time()\n",
    "\n",
    "for model_name, model in tqdm(models_dict.items()):\n",
    "    train_scores = []\n",
    "    val_scores = []\n",
    "    recall_test = []\n",
    "    precision_test = []\n",
    "    \n",
    "    for train_index, val_index in skf.split(X_trainval, y_trainval):\n",
    "        X_train, X_val = X_trainval.iloc[train_index], X_trainval.iloc[val_index]\n",
    "        y_train, y_val = y_trainval.iloc[train_index], y_trainval.iloc[val_index]\n",
    "        \n",
    "        start_time = time.time() # for logging run times\n",
    "        \n",
    "        # fit\n",
    "        model.fit(X_train, y_train)\n",
    "        \n",
    "        # default metric: accuracy\n",
    "        train_score = model.score(X_train, y_train)\n",
    "        val_score = model.score(X_val, y_val)\n",
    "        recall = recall_score(y_val, model.predict(X_val))\n",
    "        precision = precision_score(y_val, model.predict(X_val))\n",
    "        \n",
    "        end_time = time.time() # for logging run times\n",
    "        \n",
    "        train_scores.append(train_score)\n",
    "        val_scores.append(val_score)\n",
    "        recall_test.append(recall)\n",
    "        precision_test.append(precision)\n",
    "        \n",
    "    res[model_name] = {\n",
    "        'ave_train_acc':np.mean(train_scores) * 100,\n",
    "        'ave_val_acc':np.mean(val_scores) * 100,\n",
    "        'ave_recall_score':np.mean(recall_test) * 100,\n",
    "        'ave_precision_score':np.mean(precision_test) * 100,\n",
    "        'run_time': end_time - start_time\n",
    "    }\n",
    "\n",
    "# log end time\n",
    "total_end = time.time()\n",
    "\n",
    "elapsed = total_end - total_start\n",
    "print(f\"Report Generated in {elapsed:.2f} seconds\")\n",
    "summary_df = pd.DataFrame(res).T\n",
    "display(summary_df)"
   ]
  },
  {
   "cell_type": "code",
   "execution_count": 18,
   "metadata": {
    "ExecuteTime": {
     "end_time": "2021-10-19T10:29:02.132771Z",
     "start_time": "2021-10-19T10:28:58.804570Z"
    }
   },
   "outputs": [
    {
     "name": "stderr",
     "output_type": "stream",
     "text": [
      "4it [00:00, 81.85it/s]\n"
     ]
    },
    {
     "data": {
      "image/png": "[encoded data removed]",
      "text/plain": [
       "<Figure size 1440x360 with 4 Axes>"
      ]
     },
     "metadata": {
      "needs_background": "light"
     },
     "output_type": "display_data"
    }
   ],
   "source": [
    "from sklearn.metrics import ConfusionMatrixDisplay\n",
    "\n",
    "best_model = GradientBoostingClassifier()\n",
    "best_model.fit(X_trainval, y_trainval)\n",
    "y_pred = model.predict(X_holdout)\n",
    "\n",
    "eval_dict = {\n",
    "    'AllNegativeClassifier': np.zeros(y_holdout.shape),\n",
    "    'AllPositiveClassifier' : np.ones(y_holdout.shape),\n",
    "    'GradientBoostingRegressor': y_pred,\n",
    "    'PerfectClassifier': y_holdout\n",
    "}\n",
    "\n",
    "fig, axes = plt.subplots(1, 4, figsize=(20, 5))\n",
    "\n",
    "for index, (model_name, preds) in tqdm(enumerate(eval_dict.items())):\n",
    "    ConfusionMatrixDisplay.from_predictions(y_holdout, preds, \n",
    "                                            ax=axes[index], cmap='summer',\n",
    "                                            colorbar=False)\n",
    "    axes[index].set_title(model_name, fontsize=12)\n",
    "    axes[index].set_xlabel('Predicted Label', fontsize=12)\n",
    "    axes[index].set_ylabel('True Label', fontsize=12)"
   ]
  },
  {
   "cell_type": "code",
   "execution_count": 11,
   "metadata": {
    "ExecuteTime": {
     "end_time": "2021-10-19T09:55:58.289043Z",
     "start_time": "2021-10-19T09:55:57.963914Z"
    }
   },
   "outputs": [
    {
     "data": {
      "image/png": "[encoded data removed]",
      "text/plain": [
       "<Figure size 864x504 with 1 Axes>"
      ]
     },
     "metadata": {
      "needs_background": "light"
     },
     "output_type": "display_data"
    }
   ],
   "source": [
    "fig, ax = plt.subplots()\n",
    "plt.barh(summary_df.index, summary_df['ave_val_acc'], color=['gray', 'gray', 'gray', 'g', 'g', 'g'])\n",
    "ax.axvline(pcc, color='red', linestyle='--', label='PCC')\n",
    "plt.ylabel('Model')\n",
    "plt.xlabel('Test Accuracy')\n",
    "plt.legend()\n",
    "plt.title('Figure 7. Test Accuracy per Machine Learning Model');"
   ]
  },
  {
   "cell_type": "markdown",
   "metadata": {
    "ExecuteTime": {
     "end_time": "2021-09-14T14:43:43.299818Z",
     "start_time": "2021-09-14T14:43:43.295561Z"
    }
   },
   "source": [
    "### Feature Importance"
   ]
  },
  {
   "cell_type": "code",
   "execution_count": 12,
   "metadata": {
    "ExecuteTime": {
     "end_time": "2021-10-19T09:57:10.360473Z",
     "start_time": "2021-10-19T09:57:05.581419Z"
    }
   },
   "outputs": [
    {
     "data": {
      "image/png": "[encoded data removed]",
      "text/plain": [
       "<Figure size 864x504 with 1 Axes>"
      ]
     },
     "metadata": {
      "needs_background": "light"
     },
     "output_type": "display_data"
    }
   ],
   "source": [
    "svc = GradientBoostingClassifier(n_estimators=300,max_depth=3, max_features=0.8).fit(X_train, y_train)\n",
    "\n",
    "coefs = svc.feature_importances_\n",
    "abs_coefs = np.abs(coefs[:])\n",
    "coefs_count = len(abs_coefs)\n",
    "\n",
    "fig, ax = plt.subplots()\n",
    "ax.barh(np.arange(coefs_count), sorted(abs_coefs))\n",
    "ax.set_yticks(np.arange(coefs_count))\n",
    "ax.set_yticklabels(X.columns[np.argsort(abs_coefs)])\n",
    "ax.set_ylabel('Features')\n",
    "ax.set_xlabel('Importance')\n",
    "ax.set_title('Feature Importance');"
   ]
  },
  {
   "cell_type": "markdown",
   "metadata": {},
   "source": [
    "### Using SMOTE"
   ]
  },
  {
   "cell_type": "code",
   "execution_count": 14,
   "metadata": {
    "ExecuteTime": {
     "end_time": "2021-10-19T10:22:12.571361Z",
     "start_time": "2021-10-19T10:21:41.903134Z"
    }
   },
   "outputs": [
    {
     "name": "stderr",
     "output_type": "stream",
     "text": [
      "100%|██████████| 6/6 [00:30<00:00,  5.10s/it]"
     ]
    },
    {
     "name": "stdout",
     "output_type": "stream",
     "text": [
      "Report Generated in 30.63 seconds\n"
     ]
    },
    {
     "name": "stderr",
     "output_type": "stream",
     "text": [
      "\n"
     ]
    },
    {
     "data": {
      "text/html": [
       "<div>\n",
       "<style scoped>\n",
       "    .dataframe tbody tr th:only-of-type {\n",
       "        vertical-align: middle;\n",
       "    }\n",
       "\n",
       "    .dataframe tbody tr th {\n",
       "        vertical-align: top;\n",
       "    }\n",
       "\n",
       "    .dataframe thead th {\n",
       "        text-align: right;\n",
       "    }\n",
       "</style>\n",
       "<table border=\"1\" class=\"dataframe\">\n",
       "  <thead>\n",
       "    <tr style=\"text-align: right;\">\n",
       "      <th></th>\n",
       "      <th>ave_train_acc</th>\n",
       "      <th>ave_val_acc</th>\n",
       "      <th>ave_recall_score</th>\n",
       "      <th>ave_precision_score</th>\n",
       "      <th>run_time</th>\n",
       "    </tr>\n",
       "  </thead>\n",
       "  <tbody>\n",
       "    <tr>\n",
       "      <th>KNeighborsClassifier</th>\n",
       "      <td>92.438148</td>\n",
       "      <td>87.947269</td>\n",
       "      <td>69.940120</td>\n",
       "      <td>60.094184</td>\n",
       "      <td>1.966866</td>\n",
       "    </tr>\n",
       "    <tr>\n",
       "      <th>LogisticRegressor</th>\n",
       "      <td>83.659218</td>\n",
       "      <td>87.438795</td>\n",
       "      <td>62.035928</td>\n",
       "      <td>60.030544</td>\n",
       "      <td>0.328387</td>\n",
       "    </tr>\n",
       "    <tr>\n",
       "      <th>GaussianNB</th>\n",
       "      <td>84.177973</td>\n",
       "      <td>84.011299</td>\n",
       "      <td>72.814371</td>\n",
       "      <td>49.475418</td>\n",
       "      <td>0.033896</td>\n",
       "    </tr>\n",
       "    <tr>\n",
       "      <th>RandomForestClassifier</th>\n",
       "      <td>100.000000</td>\n",
       "      <td>95.442561</td>\n",
       "      <td>80.838323</td>\n",
       "      <td>89.173780</td>\n",
       "      <td>1.404101</td>\n",
       "    </tr>\n",
       "    <tr>\n",
       "      <th>DecisionTreeClassifier</th>\n",
       "      <td>100.000000</td>\n",
       "      <td>92.768362</td>\n",
       "      <td>77.365269</td>\n",
       "      <td>76.881839</td>\n",
       "      <td>0.102725</td>\n",
       "    </tr>\n",
       "    <tr>\n",
       "      <th>GradientBoostingClassifier</th>\n",
       "      <td>97.581804</td>\n",
       "      <td>96.214689</td>\n",
       "      <td>86.467066</td>\n",
       "      <td>89.138174</td>\n",
       "      <td>2.040572</td>\n",
       "    </tr>\n",
       "  </tbody>\n",
       "</table>\n",
       "</div>"
      ],
      "text/plain": [
       "                            ave_train_acc  ave_val_acc  ave_recall_score  \\\n",
       "KNeighborsClassifier            92.438148    87.947269         69.940120   \n",
       "LogisticRegressor               83.659218    87.438795         62.035928   \n",
       "GaussianNB                      84.177973    84.011299         72.814371   \n",
       "RandomForestClassifier         100.000000    95.442561         80.838323   \n",
       "DecisionTreeClassifier         100.000000    92.768362         77.365269   \n",
       "GradientBoostingClassifier      97.581804    96.214689         86.467066   \n",
       "\n",
       "                            ave_precision_score  run_time  \n",
       "KNeighborsClassifier                  60.094184  1.966866  \n",
       "LogisticRegressor                     60.030544  0.328387  \n",
       "GaussianNB                            49.475418  0.033896  \n",
       "RandomForestClassifier                89.173780  1.404101  \n",
       "DecisionTreeClassifier                76.881839  0.102725  \n",
       "GradientBoostingClassifier            89.138174  2.040572  "
      ]
     },
     "metadata": {},
     "output_type": "display_data"
    }
   ],
   "source": [
    "# budget automl\n",
    "skf = StratifiedKFold(n_splits=5)\n",
    "\n",
    "res = {}\n",
    "\n",
    "# log start time\n",
    "total_start = time.time()\n",
    "\n",
    "for model_name, model in tqdm(models_dict.items()):\n",
    "    train_scores = []\n",
    "    val_scores = []\n",
    "    recall_test = []\n",
    "    precision_test = []\n",
    "    \n",
    "    for train_index, val_index in skf.split(X_trainval, y_trainval):\n",
    "        X_train, X_val = X_trainval.iloc[train_index], X_trainval.iloc[val_index]\n",
    "        y_train, y_val = y_trainval.iloc[train_index], y_trainval.iloc[val_index]\n",
    "        \n",
    "        smote = SMOTE(sampling_strategy=0.4, random_state=123)\n",
    "        X_train_smote, y_train_smote = smote.fit_resample(X_train, y_train)\n",
    "        \n",
    "        start_time = time.time() # for logging run times\n",
    "        \n",
    "        # fit\n",
    "        model.fit(X_train_smote, y_train_smote)\n",
    "        \n",
    "        # default metric: accuracy\n",
    "        train_score = model.score(X_train_smote, y_train_smote)\n",
    "        val_score = model.score(X_val, y_val)\n",
    "        recall = recall_score(y_val, model.predict(X_val))\n",
    "        precision = precision_score(y_val, model.predict(X_val))\n",
    "        \n",
    "        end_time = time.time() # for logging run times\n",
    "        \n",
    "        train_scores.append(train_score)\n",
    "        val_scores.append(val_score)\n",
    "        recall_test.append(recall)\n",
    "        precision_test.append(precision)\n",
    "        \n",
    "    res[model_name] = {\n",
    "        'ave_train_acc':np.mean(train_scores) * 100,\n",
    "        'ave_val_acc':np.mean(val_scores) * 100,\n",
    "        'ave_recall_score':np.mean(recall_test) * 100,\n",
    "        'ave_precision_score':np.mean(precision_test) * 100,\n",
    "        'run_time': end_time - start_time\n",
    "    }\n",
    "\n",
    "# log end time\n",
    "total_end = time.time()\n",
    "\n",
    "elapsed = total_end - total_start\n",
    "print(f\"Report Generated in {elapsed:.2f} seconds\")\n",
    "summary_df = pd.DataFrame(res).T\n",
    "display(summary_df)"
   ]
  },
  {
   "cell_type": "markdown",
   "metadata": {},
   "source": [
    "### Using ADASYN"
   ]
  },
  {
   "cell_type": "code",
   "execution_count": 27,
   "metadata": {
    "ExecuteTime": {
     "end_time": "2021-10-19T10:38:10.230702Z",
     "start_time": "2021-10-19T10:37:39.533422Z"
    }
   },
   "outputs": [
    {
     "name": "stderr",
     "output_type": "stream",
     "text": [
      "100%|██████████| 6/6 [00:30<00:00,  5.11s/it]"
     ]
    },
    {
     "name": "stdout",
     "output_type": "stream",
     "text": [
      "Report Generated in 30.66 seconds\n"
     ]
    },
    {
     "name": "stderr",
     "output_type": "stream",
     "text": [
      "\n"
     ]
    },
    {
     "data": {
      "text/html": [
       "<div>\n",
       "<style scoped>\n",
       "    .dataframe tbody tr th:only-of-type {\n",
       "        vertical-align: middle;\n",
       "    }\n",
       "\n",
       "    .dataframe tbody tr th {\n",
       "        vertical-align: top;\n",
       "    }\n",
       "\n",
       "    .dataframe thead th {\n",
       "        text-align: right;\n",
       "    }\n",
       "</style>\n",
       "<table border=\"1\" class=\"dataframe\">\n",
       "  <thead>\n",
       "    <tr style=\"text-align: right;\">\n",
       "      <th></th>\n",
       "      <th>ave_train_acc</th>\n",
       "      <th>ave_val_acc</th>\n",
       "      <th>ave_recall_score</th>\n",
       "      <th>ave_precision_score</th>\n",
       "      <th>run_time</th>\n",
       "    </tr>\n",
       "  </thead>\n",
       "  <tbody>\n",
       "    <tr>\n",
       "      <th>KNeighborsClassifier</th>\n",
       "      <td>91.807495</td>\n",
       "      <td>86.930320</td>\n",
       "      <td>70.778443</td>\n",
       "      <td>56.892510</td>\n",
       "      <td>1.666217</td>\n",
       "    </tr>\n",
       "    <tr>\n",
       "      <th>LogisticRegressor</th>\n",
       "      <td>81.157752</td>\n",
       "      <td>85.743879</td>\n",
       "      <td>53.772455</td>\n",
       "      <td>55.001232</td>\n",
       "      <td>0.142618</td>\n",
       "    </tr>\n",
       "    <tr>\n",
       "      <th>GaussianNB</th>\n",
       "      <td>84.439736</td>\n",
       "      <td>84.576271</td>\n",
       "      <td>72.934132</td>\n",
       "      <td>50.665911</td>\n",
       "      <td>0.032912</td>\n",
       "    </tr>\n",
       "    <tr>\n",
       "      <th>RandomForestClassifier</th>\n",
       "      <td>100.000000</td>\n",
       "      <td>95.612053</td>\n",
       "      <td>81.556886</td>\n",
       "      <td>89.680209</td>\n",
       "      <td>1.224282</td>\n",
       "    </tr>\n",
       "    <tr>\n",
       "      <th>DecisionTreeClassifier</th>\n",
       "      <td>100.000000</td>\n",
       "      <td>92.278719</td>\n",
       "      <td>80.000000</td>\n",
       "      <td>73.374331</td>\n",
       "      <td>0.098736</td>\n",
       "    </tr>\n",
       "    <tr>\n",
       "      <th>GradientBoostingClassifier</th>\n",
       "      <td>97.527991</td>\n",
       "      <td>96.195857</td>\n",
       "      <td>86.826347</td>\n",
       "      <td>88.755884</td>\n",
       "      <td>1.785104</td>\n",
       "    </tr>\n",
       "  </tbody>\n",
       "</table>\n",
       "</div>"
      ],
      "text/plain": [
       "                            ave_train_acc  ave_val_acc  ave_recall_score  \\\n",
       "KNeighborsClassifier            91.807495    86.930320         70.778443   \n",
       "LogisticRegressor               81.157752    85.743879         53.772455   \n",
       "GaussianNB                      84.439736    84.576271         72.934132   \n",
       "RandomForestClassifier         100.000000    95.612053         81.556886   \n",
       "DecisionTreeClassifier         100.000000    92.278719         80.000000   \n",
       "GradientBoostingClassifier      97.527991    96.195857         86.826347   \n",
       "\n",
       "                            ave_precision_score  run_time  \n",
       "KNeighborsClassifier                  56.892510  1.666217  \n",
       "LogisticRegressor                     55.001232  0.142618  \n",
       "GaussianNB                            50.665911  0.032912  \n",
       "RandomForestClassifier                89.680209  1.224282  \n",
       "DecisionTreeClassifier                73.374331  0.098736  \n",
       "GradientBoostingClassifier            88.755884  1.785104  "
      ]
     },
     "metadata": {},
     "output_type": "display_data"
    }
   ],
   "source": [
    "# budget automl\n",
    "skf = StratifiedKFold(n_splits=5)\n",
    "\n",
    "res = {}\n",
    "\n",
    "# log start time\n",
    "total_start = time.time()\n",
    "\n",
    "for model_name, model in tqdm(models_dict.items()):\n",
    "    train_scores = []\n",
    "    val_scores = []\n",
    "    recall_test = []\n",
    "    precision_test = []\n",
    "    \n",
    "    for train_index, val_index in skf.split(X_trainval, y_trainval):\n",
    "        X_train, X_val = X_trainval.iloc[train_index], X_trainval.iloc[val_index]\n",
    "        y_train, y_val = y_trainval.iloc[train_index], y_trainval.iloc[val_index]\n",
    "        \n",
    "        adasyn = ADASYN(sampling_strategy=0.4, random_state=123)\n",
    "        X_train_adasyn, y_train_adasyn = adasyn.fit_resample(X_train, y_train)\n",
    "        \n",
    "        start_time = time.time() # for logging run times\n",
    "        \n",
    "        # fit\n",
    "        model.fit(X_train_adasyn, y_train_adasyn)\n",
    "        \n",
    "        # default metric: accuracy\n",
    "        train_score = model.score(X_train_adasyn, y_train_adasyn)\n",
    "        val_score = model.score(X_val, y_val)\n",
    "        recall = recall_score(y_val, model.predict(X_val))\n",
    "        precision = precision_score(y_val, model.predict(X_val))\n",
    "        \n",
    "        end_time = time.time() # for logging run times\n",
    "        \n",
    "        train_scores.append(train_score)\n",
    "        val_scores.append(val_score)\n",
    "        recall_test.append(recall)\n",
    "        precision_test.append(precision)\n",
    "        \n",
    "    res[model_name] = {\n",
    "        'ave_train_acc':np.mean(train_scores) * 100,\n",
    "        'ave_val_acc':np.mean(val_scores) * 100,\n",
    "        'ave_recall_score':np.mean(recall_test) * 100,\n",
    "        'ave_precision_score':np.mean(precision_test) * 100,\n",
    "        'run_time': end_time - start_time\n",
    "    }\n",
    "\n",
    "# log end time\n",
    "total_end = time.time()\n",
    "\n",
    "elapsed = total_end - total_start\n",
    "print(f\"Report Generated in {elapsed:.2f} seconds\")\n",
    "summary_df = pd.DataFrame(res).T\n",
    "display(summary_df)"
   ]
  },
  {
   "cell_type": "markdown",
   "metadata": {},
   "source": [
    "### Using SMOTENC"
   ]
  },
  {
   "cell_type": "code",
   "execution_count": 30,
   "metadata": {
    "ExecuteTime": {
     "end_time": "2021-10-19T10:42:25.866600Z",
     "start_time": "2021-10-19T10:41:49.823868Z"
    }
   },
   "outputs": [
    {
     "name": "stderr",
     "output_type": "stream",
     "text": [
      "100%|██████████| 6/6 [00:35<00:00,  6.00s/it]"
     ]
    },
    {
     "name": "stdout",
     "output_type": "stream",
     "text": [
      "Report Generated in 36.00 seconds\n"
     ]
    },
    {
     "name": "stderr",
     "output_type": "stream",
     "text": [
      "\n"
     ]
    },
    {
     "data": {
      "text/html": [
       "<div>\n",
       "<style scoped>\n",
       "    .dataframe tbody tr th:only-of-type {\n",
       "        vertical-align: middle;\n",
       "    }\n",
       "\n",
       "    .dataframe tbody tr th {\n",
       "        vertical-align: top;\n",
       "    }\n",
       "\n",
       "    .dataframe thead th {\n",
       "        text-align: right;\n",
       "    }\n",
       "</style>\n",
       "<table border=\"1\" class=\"dataframe\">\n",
       "  <thead>\n",
       "    <tr style=\"text-align: right;\">\n",
       "      <th></th>\n",
       "      <th>ave_train_acc</th>\n",
       "      <th>ave_val_acc</th>\n",
       "      <th>ave_recall_score</th>\n",
       "      <th>ave_precision_score</th>\n",
       "      <th>run_time</th>\n",
       "    </tr>\n",
       "  </thead>\n",
       "  <tbody>\n",
       "    <tr>\n",
       "      <th>KNeighborsClassifier</th>\n",
       "      <td>92.438148</td>\n",
       "      <td>87.947269</td>\n",
       "      <td>69.940120</td>\n",
       "      <td>60.094184</td>\n",
       "      <td>1.548382</td>\n",
       "    </tr>\n",
       "    <tr>\n",
       "      <th>LogisticRegressor</th>\n",
       "      <td>83.467678</td>\n",
       "      <td>87.664783</td>\n",
       "      <td>63.113772</td>\n",
       "      <td>60.542437</td>\n",
       "      <td>0.217925</td>\n",
       "    </tr>\n",
       "    <tr>\n",
       "      <th>GaussianNB</th>\n",
       "      <td>83.850758</td>\n",
       "      <td>83.898305</td>\n",
       "      <td>73.053892</td>\n",
       "      <td>49.260001</td>\n",
       "      <td>0.031425</td>\n",
       "    </tr>\n",
       "    <tr>\n",
       "      <th>RandomForestClassifier</th>\n",
       "      <td>100.000000</td>\n",
       "      <td>95.612053</td>\n",
       "      <td>81.916168</td>\n",
       "      <td>89.379756</td>\n",
       "      <td>1.475358</td>\n",
       "    </tr>\n",
       "    <tr>\n",
       "      <th>DecisionTreeClassifier</th>\n",
       "      <td>100.000000</td>\n",
       "      <td>92.749529</td>\n",
       "      <td>77.964072</td>\n",
       "      <td>76.509383</td>\n",
       "      <td>0.084772</td>\n",
       "    </tr>\n",
       "    <tr>\n",
       "      <th>GradientBoostingClassifier</th>\n",
       "      <td>97.621708</td>\n",
       "      <td>96.120527</td>\n",
       "      <td>85.988024</td>\n",
       "      <td>88.988033</td>\n",
       "      <td>2.115361</td>\n",
       "    </tr>\n",
       "  </tbody>\n",
       "</table>\n",
       "</div>"
      ],
      "text/plain": [
       "                            ave_train_acc  ave_val_acc  ave_recall_score  \\\n",
       "KNeighborsClassifier            92.438148    87.947269         69.940120   \n",
       "LogisticRegressor               83.467678    87.664783         63.113772   \n",
       "GaussianNB                      83.850758    83.898305         73.053892   \n",
       "RandomForestClassifier         100.000000    95.612053         81.916168   \n",
       "DecisionTreeClassifier         100.000000    92.749529         77.964072   \n",
       "GradientBoostingClassifier      97.621708    96.120527         85.988024   \n",
       "\n",
       "                            ave_precision_score  run_time  \n",
       "KNeighborsClassifier                  60.094184  1.548382  \n",
       "LogisticRegressor                     60.542437  0.217925  \n",
       "GaussianNB                            49.260001  0.031425  \n",
       "RandomForestClassifier                89.379756  1.475358  \n",
       "DecisionTreeClassifier                76.509383  0.084772  \n",
       "GradientBoostingClassifier            88.988033  2.115361  "
      ]
     },
     "metadata": {},
     "output_type": "display_data"
    }
   ],
   "source": [
    "# budget automl\n",
    "skf = StratifiedKFold(n_splits=5)\n",
    "\n",
    "res = {}\n",
    "\n",
    "# log start time\n",
    "total_start = time.time()\n",
    "\n",
    "for model_name, model in tqdm(models_dict.items()):\n",
    "    train_scores = []\n",
    "    val_scores = []\n",
    "    recall_test = []\n",
    "    precision_test = []\n",
    "    \n",
    "    for train_index, val_index in skf.split(X_trainval, y_trainval):\n",
    "        X_train, X_val = X_trainval.iloc[train_index], X_trainval.iloc[val_index]\n",
    "        y_train, y_val = y_trainval.iloc[train_index], y_trainval.iloc[val_index]\n",
    "        \n",
    "        smotenc = SMOTENC(categorical_features=[bank_df[\"Attrition_Flag\"].min(),\n",
    "                                                bank_df[\"Attrition_Flag\"].max()],\n",
    "                          sampling_strategy=0.4, random_state=123)\n",
    "        X_train_smotenc, y_train_smotenc = smotenc.fit_resample(X_train, y_train)\n",
    "        \n",
    "        start_time = time.time() # for logging run times\n",
    "        \n",
    "        # fit\n",
    "        model.fit(X_train_smotenc, y_train_smotenc)\n",
    "        \n",
    "        # default metric: accuracy\n",
    "        train_score = model.score(X_train_smotenc, y_train_smotenc)\n",
    "        val_score = model.score(X_val, y_val)\n",
    "        recall = recall_score(y_val, model.predict(X_val))\n",
    "        precision = precision_score(y_val, model.predict(X_val))\n",
    "        \n",
    "        end_time = time.time() # for logging run times\n",
    "        \n",
    "        train_scores.append(train_score)\n",
    "        val_scores.append(val_score)\n",
    "        recall_test.append(recall)\n",
    "        precision_test.append(precision)\n",
    "        \n",
    "    res[model_name] = {\n",
    "        'ave_train_acc':np.mean(train_scores) * 100,\n",
    "        'ave_val_acc':np.mean(val_scores) * 100,\n",
    "        'ave_recall_score':np.mean(recall_test) * 100,\n",
    "        'ave_precision_score':np.mean(precision_test) * 100,\n",
    "        'run_time': end_time - start_time\n",
    "    }\n",
    "\n",
    "# log end time\n",
    "total_end = time.time()\n",
    "\n",
    "elapsed = total_end - total_start\n",
    "print(f\"Report Generated in {elapsed:.2f} seconds\")\n",
    "summary_df = pd.DataFrame(res).T\n",
    "display(summary_df)"
   ]
  },
  {
   "cell_type": "code",
   "execution_count": null,
   "metadata": {},
   "outputs": [],
   "source": []
  }
 ],
 "metadata": {
  "kernelspec": {
   "display_name": "Python 3",
   "language": "python",
   "name": "python3"
  },
  "language_info": {
   "codemirror_mode": {
    "name": "ipython",
    "version": 3
   },
   "file_extension": ".py",
   "mimetype": "text/x-python",
   "name": "python",
   "nbconvert_exporter": "python",
   "pygments_lexer": "ipython3",
   "version": "3.8.5"
  },
  "varInspector": {
   "cols": {
    "lenName": 16,
    "lenType": 16,
    "lenVar": 40
   },
   "kernels_config": {
    "python": {
     "delete_cmd_postfix": "",
     "delete_cmd_prefix": "del ",
     "library": "var_list.py",
     "varRefreshCmd": "print(var_dic_list())"
    },
    "r": {
     "delete_cmd_postfix": ") ",
     "delete_cmd_prefix": "rm(",
     "library": "var_list.r",
     "varRefreshCmd": "cat(var_dic_list()) "
    }
   },
   "types_to_exclude": [
    "module",
    "function",
    "builtin_function_or_method",
    "instance",
    "_Feature"
   ],
   "window_display": false
  }
 },
 "nbformat": 4,
 "nbformat_minor": 4
}
